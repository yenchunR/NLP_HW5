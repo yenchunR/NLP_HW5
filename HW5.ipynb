{
  "nbformat": 4,
  "nbformat_minor": 0,
  "metadata": {
    "colab": {
      "name": "HW5.ipynb",
      "provenance": [],
      "collapsed_sections": [],
      "authorship_tag": "ABX9TyOLZ/t1Ta7UB9knldfJBFhl",
      "include_colab_link": true
    },
    "kernelspec": {
      "name": "python3",
      "display_name": "Python 3"
    },
    "language_info": {
      "name": "python"
    }
  },
  "cells": [
    {
      "cell_type": "markdown",
      "metadata": {
        "id": "view-in-github",
        "colab_type": "text"
      },
      "source": [
        "<a href=\"https://colab.research.google.com/github/yenchunR/NLP_HW5/blob/master/HW5.ipynb\" target=\"_parent\"><img src=\"https://colab.research.google.com/assets/colab-badge.svg\" alt=\"Open In Colab\"/></a>"
      ]
    },
    {
      "cell_type": "markdown",
      "metadata": {
        "id": "8SQRoPRi184S"
      },
      "source": [
        "# Import module"
      ]
    },
    {
      "cell_type": "code",
      "metadata": {
        "id": "kb3qOs32gUAW"
      },
      "source": [
        "import os\n",
        "import time\n",
        "import numpy as np\n",
        "import matplotlib as mpl\n",
        "import matplotlib.pyplot as plt\n",
        "from pprint import pprint\n",
        "from IPython.display import clear_output "
      ],
      "execution_count": 2,
      "outputs": []
    },
    {
      "cell_type": "code",
      "metadata": {
        "id": "t0gW8GfA5r1v"
      },
      "source": [
        "!pip3 uninstall tensorflow-gpu==2.0.0-beta0\n",
        "!pip3 uninstall -y tensorflow\n",
        "!pip3 uninstall keras\n",
        "clear_output()"
      ],
      "execution_count": 3,
      "outputs": []
    },
    {
      "cell_type": "code",
      "metadata": {
        "id": "HwMdBxPM4AsD"
      },
      "source": [
        "!pip3 uninstall tensorflow-gpu==2.0.0-beta0\n",
        "!pip3 install tensorflow-gpu==2.0.0-beta0\n",
        "!pip3 uninstall tensorflow\n",
        "!pip3 install tensorflow\n",
        "clear_output()"
      ],
      "execution_count": 4,
      "outputs": []
    },
    {
      "cell_type": "code",
      "metadata": {
        "id": "KwwtxGvN-NeQ"
      },
      "source": [
        "!pip3 uninstall tensorflow-datasets\n",
        "!pip3 install tensorflow-datasets\n",
        "clear_output()"
      ],
      "execution_count": 5,
      "outputs": []
    },
    {
      "cell_type": "code",
      "metadata": {
        "id": "V2HZO9efBga7"
      },
      "source": [
        "!pip3 install --ignore-installed --upgrade --ignore-installed tensorflow\n",
        "clear_output()"
      ],
      "execution_count": 6,
      "outputs": []
    },
    {
      "cell_type": "code",
      "metadata": {
        "colab": {
          "base_uri": "https://localhost:8080/"
        },
        "id": "tSl4h07hBLxs",
        "outputId": "6a8dd199-ac7b-4f67-9e1b-d4aa3e86dc89"
      },
      "source": [
        "!pip3 install tensorflow-gpu==2.0.0-beta0\n",
        "import tensorflow as tf\n",
        "import tensorflow_datasets as tfds\n",
        "clear_output()\n",
        "print(tf.__version__)"
      ],
      "execution_count": 7,
      "outputs": [
        {
          "output_type": "stream",
          "text": [
            "2.6.0\n"
          ],
          "name": "stdout"
        }
      ]
    },
    {
      "cell_type": "markdown",
      "metadata": {
        "id": "5wkTG5C34G60"
      },
      "source": [
        "## 改變 logging 等級"
      ]
    },
    {
      "cell_type": "code",
      "metadata": {
        "id": "UQFnj0994KEz"
      },
      "source": [
        "import logging\n",
        "logging.basicConfig(level=\"ERROR\")\n",
        "\n",
        "np.set_printoptions(suppress=True) #讓 numpy 不要顯示科學記號"
      ],
      "execution_count": 9,
      "outputs": []
    },
    {
      "cell_type": "markdown",
      "metadata": {
        "id": "1tykotz1DBqA"
      },
      "source": [
        "# 路徑變數"
      ]
    },
    {
      "cell_type": "code",
      "metadata": {
        "id": "DP5hwEf1DDOb"
      },
      "source": [
        "output_dir = \"nmt\"\n",
        "en_vocab_file = os.path.join(output_dir, \"en_vocab\")\n",
        "zh_vocab_file = os.path.join(output_dir, \"zh_vocab\")\n",
        "checkpoint_path = os.path.join(output_dir, \"checkpoints\")\n",
        "log_dir = os.path.join(output_dir, 'logs')\n",
        "download_dir = \"tensorflow-datasets/downloads\"\n",
        "\n",
        "if not os.path.exists(output_dir):\n",
        "  os.makedirs(output_dir)"
      ],
      "execution_count": 10,
      "outputs": []
    },
    {
      "cell_type": "markdown",
      "metadata": {
        "id": "qCZeifuPDbbh"
      },
      "source": [
        "# 建立輸入管道"
      ]
    },
    {
      "cell_type": "markdown",
      "metadata": {
        "id": "mxquHFw0Dcd8"
      },
      "source": [
        "## 下載並準備資料集"
      ]
    },
    {
      "cell_type": "code",
      "metadata": {
        "colab": {
          "base_uri": "https://localhost:8080/"
        },
        "id": "_WfNNuu4DfCs",
        "outputId": "2d579f1f-010e-4d00-c5a9-244f51193196"
      },
      "source": [
        "tmp_builder = tfds.builder(\"wmt19_translate/zh-en\")\n",
        "pprint(tmp_builder.subsets)"
      ],
      "execution_count": 11,
      "outputs": [
        {
          "output_type": "stream",
          "text": [
            "{Split('train'): ['newscommentary_v14',\n",
            "                  'wikititles_v1',\n",
            "                  'uncorpus_v1',\n",
            "                  'casia2015',\n",
            "                  'casict2011',\n",
            "                  'casict2015',\n",
            "                  'datum2015',\n",
            "                  'datum2017',\n",
            "                  'neu2017'],\n",
            " Split('validation'): ['newstest2018']}\n"
          ],
          "name": "stdout"
        }
      ]
    },
    {
      "cell_type": "markdown",
      "metadata": {
        "id": "_fn3wHgiDmX4"
      },
      "source": [
        "## Download News Data"
      ]
    },
    {
      "cell_type": "code",
      "metadata": {
        "id": "nNq-PPj4DqWO"
      },
      "source": [
        "config = tfds.translate.wmt.WmtConfig(\n",
        "    version=\"0.0.3\",\n",
        "    language_pair=(\"zh\", \"en\"),\n",
        "    subsets={\n",
        "        tfds.Split.TRAIN: [\"newscommentary_v14\"]\n",
        "    },\n",
        ")\n",
        "builder = tfds.builder(\"wmt_translate\", config=config)\n",
        "builder.download_and_prepare(download_dir=download_dir)\n",
        "clear_output()"
      ],
      "execution_count": 12,
      "outputs": []
    },
    {
      "cell_type": "markdown",
      "metadata": {
        "id": "vil8PpmWHJko"
      },
      "source": [
        "## 切割資料集"
      ]
    },
    {
      "cell_type": "code",
      "metadata": {
        "colab": {
          "base_uri": "https://localhost:8080/"
        },
        "id": "MIYsVYZLHK4y",
        "outputId": "feccbdf2-2fff-4213-d39b-43f44c388b56"
      },
      "source": [
        "examples = builder.as_dataset(split=['train[:20%]','train[20%:21%]','train[21%:]'], as_supervised=True)\n",
        "\n",
        "train_examples, val_examples, _ = examples\n",
        "print(train_examples)\n",
        "print(val_examples)"
      ],
      "execution_count": 13,
      "outputs": [
        {
          "output_type": "stream",
          "text": [
            "<PrefetchDataset shapes: ((), ()), types: (tf.string, tf.string)>\n",
            "<PrefetchDataset shapes: ((), ()), types: (tf.string, tf.string)>\n"
          ],
          "name": "stdout"
        }
      ]
    },
    {
      "cell_type": "markdown",
      "metadata": {
        "id": "CCKhnpIFJyAR"
      },
      "source": [
        "### Print Data"
      ]
    },
    {
      "cell_type": "code",
      "metadata": {
        "colab": {
          "base_uri": "https://localhost:8080/"
        },
        "id": "QX9XwhHlJ2Nn",
        "outputId": "48cf1126-93f1-4948-eb72-6ae98ef7d2c1"
      },
      "source": [
        "for en, zh in train_examples.take(3):\n",
        "  print(en)\n",
        "  print(zh)\n",
        "  print('-' * 10)"
      ],
      "execution_count": 14,
      "outputs": [
        {
          "output_type": "stream",
          "text": [
            "tf.Tensor(b'The fear is real and visceral, and politicians ignore it at their peril.', shape=(), dtype=string)\n",
            "tf.Tensor(b'\\xe8\\xbf\\x99\\xe7\\xa7\\x8d\\xe6\\x81\\x90\\xe6\\x83\\xa7\\xe6\\x98\\xaf\\xe7\\x9c\\x9f\\xe5\\xae\\x9e\\xe8\\x80\\x8c\\xe5\\x86\\x85\\xe5\\x9c\\xa8\\xe7\\x9a\\x84\\xe3\\x80\\x82 \\xe5\\xbf\\xbd\\xe8\\xa7\\x86\\xe5\\xae\\x83\\xe7\\x9a\\x84\\xe6\\x94\\xbf\\xe6\\xb2\\xbb\\xe5\\xae\\xb6\\xe4\\xbb\\xac\\xe5\\x89\\x8d\\xe9\\x80\\x94\\xe5\\xa0\\xaa\\xe5\\xbf\\xa7\\xe3\\x80\\x82', shape=(), dtype=string)\n",
            "----------\n",
            "tf.Tensor(b'In fact, the German political landscape needs nothing more than a truly liberal party, in the US sense of the word \\xe2\\x80\\x9cliberal\\xe2\\x80\\x9d \\xe2\\x80\\x93 a champion of the cause of individual freedom.', shape=(), dtype=string)\n",
            "tf.Tensor(b'\\xe4\\xba\\x8b\\xe5\\xae\\x9e\\xe4\\xb8\\x8a\\xef\\xbc\\x8c\\xe5\\xbe\\xb7\\xe5\\x9b\\xbd\\xe6\\x94\\xbf\\xe6\\xb2\\xbb\\xe5\\xb1\\x80\\xe5\\x8a\\xbf\\xe9\\x9c\\x80\\xe8\\xa6\\x81\\xe7\\x9a\\x84\\xe4\\xb8\\x8d\\xe8\\xbf\\x87\\xe6\\x98\\xaf\\xe4\\xb8\\x80\\xe4\\xb8\\xaa\\xe7\\xac\\xa6\\xe5\\x90\\x88\\xe7\\xbe\\x8e\\xe5\\x9b\\xbd\\xe6\\x89\\x80\\xe8\\xb0\\x93\\xe2\\x80\\x9c\\xe8\\x87\\xaa\\xe7\\x94\\xb1\\xe2\\x80\\x9d\\xe5\\xae\\x9a\\xe4\\xb9\\x89\\xe7\\x9a\\x84\\xe7\\x9c\\x9f\\xe6\\xad\\xa3\\xe7\\x9a\\x84\\xe8\\x87\\xaa\\xe7\\x94\\xb1\\xe5\\x85\\x9a\\xe6\\xb4\\xbe\\xef\\xbc\\x8c\\xe4\\xb9\\x9f\\xe5\\xb0\\xb1\\xe6\\x98\\xaf\\xe4\\xb8\\xaa\\xe4\\xba\\xba\\xe8\\x87\\xaa\\xe7\\x94\\xb1\\xe4\\xba\\x8b\\xe4\\xb8\\x9a\\xe7\\x9a\\x84\\xe5\\x80\\xa1\\xe5\\xaf\\xbc\\xe8\\x80\\x85\\xe3\\x80\\x82', shape=(), dtype=string)\n",
            "----------\n",
            "tf.Tensor(b'Shifting to renewable-energy sources will require enormous effort and major infrastructure investment.', shape=(), dtype=string)\n",
            "tf.Tensor(b'\\xe5\\xbf\\x85\\xe9\\xa1\\xbb\\xe4\\xbb\\x98\\xe5\\x87\\xba\\xe5\\xb7\\xa8\\xe5\\xa4\\xa7\\xe7\\x9a\\x84\\xe5\\x8a\\xaa\\xe5\\x8a\\x9b\\xe5\\x92\\x8c\\xe5\\x9f\\xba\\xe7\\xa1\\x80\\xe8\\xae\\xbe\\xe6\\x96\\xbd\\xe6\\x8a\\x95\\xe8\\xb5\\x84\\xe6\\x89\\x8d\\xe8\\x83\\xbd\\xe5\\xae\\x8c\\xe6\\x88\\x90\\xe5\\x90\\x91\\xe5\\x8f\\xaf\\xe5\\x86\\x8d\\xe7\\x94\\x9f\\xe8\\x83\\xbd\\xe6\\xba\\x90\\xe7\\x9a\\x84\\xe8\\xbf\\x87\\xe6\\xb8\\xa1\\xe3\\x80\\x82', shape=(), dtype=string)\n",
            "----------\n"
          ],
          "name": "stdout"
        }
      ]
    },
    {
      "cell_type": "markdown",
      "metadata": {
        "id": "KCTtEfPlJ99m"
      },
      "source": [
        "#### 利用 numpy() 取出並解碼"
      ]
    },
    {
      "cell_type": "code",
      "metadata": {
        "id": "kilwBcHRJ_rp"
      },
      "source": [
        "sample_examples = []\n",
        "num_samples = 10\n",
        "\n",
        "for en_t, zh_t in train_examples.take(num_samples):\n",
        "  en = en_t.numpy().decode(\"utf-8\")\n",
        "  zh = zh_t.numpy().decode(\"utf-8\")\n",
        "  \n",
        "  print(en)\n",
        "  print(zh)\n",
        "  print('-' * 10)\n",
        "  \n",
        "  # 之後用來簡單評估模型的訓練情況\n",
        "  sample_examples.append((en, zh))"
      ],
      "execution_count": null,
      "outputs": []
    },
    {
      "cell_type": "markdown",
      "metadata": {
        "id": "Gb9yS6YXKFsi"
      },
      "source": [
        "# 建立中文與英文字典"
      ]
    },
    {
      "cell_type": "markdown",
      "metadata": {
        "id": "Y61Uw0XuKI3x"
      },
      "source": [
        "## 為英文語料建立字典"
      ]
    },
    {
      "cell_type": "code",
      "metadata": {
        "colab": {
          "base_uri": "https://localhost:8080/"
        },
        "id": "MqjJkMAiKKEG",
        "outputId": "fc378cad-a7a9-4222-e2c6-84939a600580"
      },
      "source": [
        "## load_from_file 函式嘗試讀取之前已經建好的字典檔案\n",
        "\n",
        "%%time\n",
        "try:\n",
        "  subword_encoder_en = tfds.deprecated.text.SubwordTextEncoder.load_from_file(en_vocab_file)\n",
        "  print(f\"載入已建立的字典： {en_vocab_file}\")\n",
        "except:\n",
        "  print(\"沒有已建立的字典，從頭建立。\")\n",
        "  subword_encoder_en = tfds.deprecated.text.SubwordTextEncoder.build_from_corpus(\n",
        "      (en.numpy() for en, _ in train_examples), \n",
        "      target_vocab_size=2**13) # 有需要可以調整字典大小\n",
        "  \n",
        "  # 將字典檔案存下以方便下次 warmstart\n",
        "  subword_encoder_en.save_to_file(en_vocab_file)\n",
        "  \n",
        "\n",
        "print(f\"字典大小：{subword_encoder_en.vocab_size}\")\n",
        "print(f\"前 10 個 subwords：{subword_encoder_en.subwords[:10]}\")\n",
        "print()"
      ],
      "execution_count": 16,
      "outputs": [
        {
          "output_type": "stream",
          "text": [
            "沒有已建立的字典，從頭建立。\n",
            "字典大小：8113\n",
            "前 10 個 subwords：[', ', 'the_', 'of_', 'to_', 'and_', 's_', 'in_', 'a_', 'is_', 'that_']\n",
            "\n",
            "CPU times: user 1min 57s, sys: 4.07 s, total: 2min 1s\n",
            "Wall time: 2min 6s\n"
          ],
          "name": "stdout"
        }
      ]
    },
    {
      "cell_type": "markdown",
      "metadata": {
        "id": "b-b4mWqhME1H"
      },
      "source": [
        "### Print Data"
      ]
    },
    {
      "cell_type": "markdown",
      "metadata": {
        "id": "d0ywSl8pMMD-"
      },
      "source": [
        "#### 用該字典來幫我們將一個英文句子轉成對應的索引序列（index sequence）"
      ]
    },
    {
      "cell_type": "code",
      "metadata": {
        "colab": {
          "base_uri": "https://localhost:8080/"
        },
        "id": "CAI941N7MNug",
        "outputId": "83c51db2-06b2-4724-b306-fc235f273237"
      },
      "source": [
        "sample_string = 'Taiwan is beautiful.'\n",
        "indices = subword_encoder_en.encode(sample_string)\n",
        "indices"
      ],
      "execution_count": 17,
      "outputs": [
        {
          "output_type": "execute_result",
          "data": {
            "text/plain": [
              "[3461, 7889, 9, 3502, 4379, 1134, 7903]"
            ]
          },
          "metadata": {
            "tags": []
          },
          "execution_count": 17
        }
      ]
    },
    {
      "cell_type": "markdown",
      "metadata": {
        "id": "boYStc5OMSmB"
      },
      "source": [
        "#### 將這些索引還原"
      ]
    },
    {
      "cell_type": "code",
      "metadata": {
        "colab": {
          "base_uri": "https://localhost:8080/"
        },
        "id": "LJtUqVFtMToE",
        "outputId": "894a85b4-9909-463e-fc49-ec82c7704d37"
      },
      "source": [
        "print(\"{0:10}{1:6}\".format(\"Index\", \"Subword\"))\n",
        "print(\"-\" * 15)\n",
        "for idx in indices:\n",
        "  subword = subword_encoder_en.decode([idx])\n",
        "  print('{0:5}{1:6}'.format(idx, ' ' * 5 + subword))"
      ],
      "execution_count": 18,
      "outputs": [
        {
          "output_type": "stream",
          "text": [
            "Index     Subword\n",
            "---------------\n",
            " 3461     Taiwan\n",
            " 7889      \n",
            "    9     is \n",
            " 3502     bea\n",
            " 4379     uti\n",
            " 1134     ful\n",
            " 7903     .\n"
          ],
          "name": "stdout"
        }
      ]
    },
    {
      "cell_type": "markdown",
      "metadata": {
        "id": "6HWJJUP-Mc_p"
      },
      "source": [
        "#### 編碼與解碼是 2 個完全可逆"
      ]
    },
    {
      "cell_type": "code",
      "metadata": {
        "colab": {
          "base_uri": "https://localhost:8080/"
        },
        "id": "G3yxRXv_MeiH",
        "outputId": "579feb3f-c0fb-4968-e97a-1c1b2cb86376"
      },
      "source": [
        "sample_string = 'Taiwan is beautiful.'\n",
        "indices = subword_encoder_en.encode(sample_string)\n",
        "decoded_string = subword_encoder_en.decode(indices)\n",
        "assert decoded_string == sample_string\n",
        "pprint((sample_string, decoded_string))"
      ],
      "execution_count": 19,
      "outputs": [
        {
          "output_type": "stream",
          "text": [
            "('Taiwan is beautiful.', 'Taiwan is beautiful.')\n"
          ],
          "name": "stdout"
        }
      ]
    },
    {
      "cell_type": "markdown",
      "metadata": {
        "id": "YgGBuP5AMlHo"
      },
      "source": [
        "## 為中文建立一個字典"
      ]
    },
    {
      "cell_type": "code",
      "metadata": {
        "colab": {
          "base_uri": "https://localhost:8080/"
        },
        "id": "bpTrJyz2MqYO",
        "outputId": "bcf18c2d-4548-4a1c-9014-a39817271d14"
      },
      "source": [
        "#https://www.tensorflow.org/datasets/api_docs/python/tfds/deprecated/text/SubwordTextEncoder\n",
        "\n",
        "%%time\n",
        "try:\n",
        "  subword_encoder_zh = tfds.deprecated.text.SubwordTextEncoder.load_from_file(zh_vocab_file)\n",
        "  print(f\"載入已建立的字典： {zh_vocab_file}\")\n",
        "except:\n",
        "  print(\"沒有已建立的字典，從頭建立。\")\n",
        "  subword_encoder_zh = tfds.deprecated.text.SubwordTextEncoder.build_from_corpus(\n",
        "      (zh.numpy() for _, zh in train_examples), \n",
        "      target_vocab_size=2**13, # 有需要可以調整字典大小\n",
        "      max_subword_length=1) # 每一個中文字就是字典裡的一個單位\n",
        "  \n",
        "  # 將字典檔案存下以方便下次 warmstart \n",
        "  subword_encoder_zh.save_to_file(zh_vocab_file)\n",
        "\n",
        "print(f\"字典大小：{subword_encoder_zh.vocab_size}\")\n",
        "print(f\"前 10 個 subwords：{subword_encoder_zh.subwords[:10]}\")\n",
        "print()"
      ],
      "execution_count": 20,
      "outputs": [
        {
          "output_type": "stream",
          "text": [
            "沒有已建立的字典，從頭建立。\n",
            "字典大小：4205\n",
            "前 10 個 subwords：['的', '，', '。', '国', '在', '是', '一', '和', '不', '这']\n",
            "\n",
            "CPU times: user 10min 6s, sys: 3.08 s, total: 10min 9s\n",
            "Wall time: 10min 3s\n"
          ],
          "name": "stdout"
        }
      ]
    },
    {
      "cell_type": "markdown",
      "metadata": {
        "id": "YCkh5QrWPE31"
      },
      "source": [
        "### Print Data"
      ]
    },
    {
      "cell_type": "markdown",
      "metadata": {
        "id": "pMR6lEPfPHKp"
      },
      "source": [
        "#### Test Chinese Sentence"
      ]
    },
    {
      "cell_type": "code",
      "metadata": {
        "colab": {
          "base_uri": "https://localhost:8080/"
        },
        "id": "uSYuDXHvPNKi",
        "outputId": "e5372308-78fe-4b48-f50c-a2306f8f20bf"
      },
      "source": [
        "sample_string = sample_examples[0][1]\n",
        "indices = subword_encoder_zh.encode(sample_string)\n",
        "print(sample_string)\n",
        "print(indices)"
      ],
      "execution_count": 21,
      "outputs": [
        {
          "output_type": "stream",
          "text": [
            "这种恐惧是真实而内在的。 忽视它的政治家们前途堪忧。\n",
            "[10, 151, 574, 1298, 6, 374, 55, 29, 193, 5, 1, 3, 3981, 931, 431, 125, 1, 17, 124, 33, 20, 97, 1089, 1247, 861, 3]\n"
          ],
          "name": "stdout"
        }
      ]
    },
    {
      "cell_type": "markdown",
      "metadata": {
        "id": "CVTQFS9bPQ2F"
      },
      "source": [
        "### Test 包含同語義的中英平行句子"
      ]
    },
    {
      "cell_type": "code",
      "metadata": {
        "colab": {
          "base_uri": "https://localhost:8080/"
        },
        "id": "WXFznyQPPePN",
        "outputId": "3948218e-1410-44e2-a9d4-0e9aa0e6dade"
      },
      "source": [
        "en = \"The eurozone’s collapse forces a major realignment of European politics.\"\n",
        "zh = \"欧元区的瓦解强迫欧洲政治进行一次重大改组。\"\n",
        "\n",
        "# 將文字轉成為 subword indices\n",
        "en_indices = subword_encoder_en.encode(en)\n",
        "zh_indices = subword_encoder_zh.encode(zh)\n",
        "\n",
        "print(\"[英中原文]（轉換前）\")\n",
        "print(en)\n",
        "print(zh)\n",
        "print()\n",
        "print('-' * 20)\n",
        "print()\n",
        "print(\"[英中序列]（轉換後）\")\n",
        "print(en_indices)\n",
        "print(zh_indices)"
      ],
      "execution_count": 22,
      "outputs": [
        {
          "output_type": "stream",
          "text": [
            "[英中原文]（轉換前）\n",
            "The eurozone’s collapse forces a major realignment of European politics.\n",
            "欧元区的瓦解强迫欧洲政治进行一次重大改组。\n",
            "\n",
            "--------------------\n",
            "\n",
            "[英中序列]（轉換後）\n",
            "[16, 900, 11, 6, 1527, 874, 8, 230, 2259, 2728, 239, 3, 89, 1236, 7903]\n",
            "[44, 202, 168, 1, 852, 201, 231, 592, 44, 87, 17, 124, 106, 38, 7, 279, 86, 18, 212, 265, 3]\n"
          ],
          "name": "stdout"
        }
      ]
    },
    {
      "cell_type": "markdown",
      "metadata": {
        "id": "JDPbQuAgPjso"
      },
      "source": [
        "# 前處理數據"
      ]
    },
    {
      "cell_type": "markdown",
      "metadata": {
        "id": "YQa3FZg5P81v"
      },
      "source": [
        "## 在一個序列的前後各加入一個特殊的 token"
      ]
    },
    {
      "cell_type": "code",
      "metadata": {
        "id": "wtNQJWinQDKQ"
      },
      "source": [
        "def encode(en_t, zh_t):\n",
        "  # 因為字典的索引從 0 開始，\n",
        "  # 我們可以使用 subword_encoder_en.vocab_size 這個值作為 BOS 的索引值\n",
        "  # 用 subword_encoder_en.vocab_size + 1 作為 EOS 的索引值\n",
        "  en_indices = [subword_encoder_en.vocab_size] + subword_encoder_en.encode(\n",
        "      en_t.numpy()) + [subword_encoder_en.vocab_size + 1]\n",
        "  # 同理，不過是使用中文字典的最後一個索引 + 1\n",
        "  zh_indices = [subword_encoder_zh.vocab_size] + subword_encoder_zh.encode(\n",
        "      zh_t.numpy()) + [subword_encoder_zh.vocab_size + 1]\n",
        "  \n",
        "  return en_indices, zh_indices"
      ],
      "execution_count": 23,
      "outputs": []
    },
    {
      "cell_type": "markdown",
      "metadata": {
        "id": "bSNWa-5kQHz0"
      },
      "source": [
        "### Print Data"
      ]
    },
    {
      "cell_type": "code",
      "metadata": {
        "colab": {
          "base_uri": "https://localhost:8080/"
        },
        "id": "CcfcNE0jQKR9",
        "outputId": "ba8b39f7-3965-4591-a2fd-6ac91634b2a5"
      },
      "source": [
        "en_t, zh_t = next(iter(train_examples))\n",
        "en_indices, zh_indices = encode(en_t, zh_t)\n",
        "print('英文 BOS 的 index：', subword_encoder_en.vocab_size)\n",
        "print('英文 EOS 的 index：', subword_encoder_en.vocab_size + 1)\n",
        "print('中文 BOS 的 index：', subword_encoder_zh.vocab_size)\n",
        "print('中文 EOS 的 index：', subword_encoder_zh.vocab_size + 1)\n",
        "\n",
        "print('\\n輸入為 2 個 Tensors：')\n",
        "pprint((en_t, zh_t))\n",
        "print('-' * 15)\n",
        "print('輸出為 2 個索引序列：')\n",
        "pprint((en_indices, zh_indices))"
      ],
      "execution_count": 24,
      "outputs": [
        {
          "output_type": "stream",
          "text": [
            "英文 BOS 的 index： 8113\n",
            "英文 EOS 的 index： 8114\n",
            "中文 BOS 的 index： 4205\n",
            "中文 EOS 的 index： 4206\n",
            "\n",
            "輸入為 2 個 Tensors：\n",
            "(<tf.Tensor: shape=(), dtype=string, numpy=b'The fear is real and visceral, and politicians ignore it at their peril.'>,\n",
            " <tf.Tensor: shape=(), dtype=string, numpy=b'\\xe8\\xbf\\x99\\xe7\\xa7\\x8d\\xe6\\x81\\x90\\xe6\\x83\\xa7\\xe6\\x98\\xaf\\xe7\\x9c\\x9f\\xe5\\xae\\x9e\\xe8\\x80\\x8c\\xe5\\x86\\x85\\xe5\\x9c\\xa8\\xe7\\x9a\\x84\\xe3\\x80\\x82 \\xe5\\xbf\\xbd\\xe8\\xa7\\x86\\xe5\\xae\\x83\\xe7\\x9a\\x84\\xe6\\x94\\xbf\\xe6\\xb2\\xbb\\xe5\\xae\\xb6\\xe4\\xbb\\xac\\xe5\\x89\\x8d\\xe9\\x80\\x94\\xe5\\xa0\\xaa\\xe5\\xbf\\xa7\\xe3\\x80\\x82'>)\n",
            "---------------\n",
            "輸出為 2 個索引序列：\n",
            "([8113,\n",
            "  16,\n",
            "  1284,\n",
            "  9,\n",
            "  243,\n",
            "  5,\n",
            "  1275,\n",
            "  1756,\n",
            "  156,\n",
            "  1,\n",
            "  5,\n",
            "  1016,\n",
            "  5566,\n",
            "  21,\n",
            "  38,\n",
            "  33,\n",
            "  2982,\n",
            "  7965,\n",
            "  7903,\n",
            "  8114],\n",
            " [4205,\n",
            "  10,\n",
            "  151,\n",
            "  574,\n",
            "  1298,\n",
            "  6,\n",
            "  374,\n",
            "  55,\n",
            "  29,\n",
            "  193,\n",
            "  5,\n",
            "  1,\n",
            "  3,\n",
            "  3981,\n",
            "  931,\n",
            "  431,\n",
            "  125,\n",
            "  1,\n",
            "  17,\n",
            "  124,\n",
            "  33,\n",
            "  20,\n",
            "  97,\n",
            "  1089,\n",
            "  1247,\n",
            "  861,\n",
            "  3,\n",
            "  4206])\n"
          ],
          "name": "stdout"
        }
      ]
    },
    {
      "cell_type": "markdown",
      "metadata": {
        "id": "41KL-v8hQgO6"
      },
      "source": [
        "## 將剛剛定義的 encode 函式包成一個以 eager 模式執行的 TensorFlow Op"
      ]
    },
    {
      "cell_type": "code",
      "metadata": {
        "colab": {
          "base_uri": "https://localhost:8080/"
        },
        "id": "yQrLL6G8QjgQ",
        "outputId": "d430ffa5-5875-40dd-a1ff-4e8047d7f3f8"
      },
      "source": [
        "def tf_encode(en_t, zh_t):\n",
        "  # 在 `tf_encode` 函式裡頭的 `en_t` 與 `zh_t` 都不是 Eager Tensors\n",
        "  # 要到 `tf.py_funtion` 裡頭才是\n",
        "  # 另外因為索引都是整數，所以使用 `tf.int64`\n",
        "  return tf.py_function(encode, [en_t, zh_t], [tf.int64, tf.int64])\n",
        "\n",
        "# `tmp_dataset` 為說明用資料集，說明完所有重要的 func，\n",
        "# 我們會從頭建立一個正式的 `train_dataset`\n",
        "tmp_dataset = train_examples.map(tf_encode)\n",
        "en_indices, zh_indices = next(iter(tmp_dataset))\n",
        "print(en_indices)\n",
        "print(zh_indices)\n",
        "## tmp_dataset 的輸出已經是兩個索引序列，而非原文字串"
      ],
      "execution_count": 25,
      "outputs": [
        {
          "output_type": "stream",
          "text": [
            "tf.Tensor(\n",
            "[8113   16 1284    9  243    5 1275 1756  156    1    5 1016 5566   21\n",
            "   38   33 2982 7965 7903 8114], shape=(20,), dtype=int64)\n",
            "tf.Tensor(\n",
            "[4205   10  151  574 1298    6  374   55   29  193    5    1    3 3981\n",
            "  931  431  125    1   17  124   33   20   97 1089 1247  861    3 4206], shape=(28,), dtype=int64)\n"
          ],
          "name": "stdout"
        }
      ]
    },
    {
      "cell_type": "markdown",
      "metadata": {
        "id": "_JM2wNwcQu0J"
      },
      "source": [
        "## 將長度超過 40 個 tokens 的序列都去掉"
      ]
    },
    {
      "cell_type": "code",
      "metadata": {
        "id": "J8sdrrkYQvwZ"
      },
      "source": [
        "MAX_LENGTH = 40\n",
        "\n",
        "def filter_max_length(en, zh, max_length=MAX_LENGTH):\n",
        "  # en, zh 分別代表英文與中文的索引序列\n",
        "  return tf.logical_and(tf.size(en) <= max_length,\n",
        "                        tf.size(zh) <= max_length)\n",
        "\n",
        "# tf.data.Dataset.filter(func) 只會回傳 func 為真的例子\n",
        "tmp_dataset = tmp_dataset.filter(filter_max_length)"
      ],
      "execution_count": 26,
      "outputs": []
    },
    {
      "cell_type": "markdown",
      "metadata": {
        "id": "mFBUMLp1Q1mQ"
      },
      "source": [
        "### Print Data"
      ]
    },
    {
      "cell_type": "code",
      "metadata": {
        "colab": {
          "base_uri": "https://localhost:8080/"
        },
        "id": "MV-CyPN_Q3Uz",
        "outputId": "cc463ea9-65b7-42d8-d5fa-a8aa94baa774"
      },
      "source": [
        "# 因為我們數據量小可以這樣 count\n",
        "num_examples = 0\n",
        "for en_indices, zh_indices in tmp_dataset:\n",
        "  cond1 = len(en_indices) <= MAX_LENGTH\n",
        "  cond2 = len(zh_indices) <= MAX_LENGTH\n",
        "  assert cond1 and cond2\n",
        "  num_examples += 1\n",
        "\n",
        "print(f\"所有英文與中文序列長度都不超過 {MAX_LENGTH} 個 tokens\")\n",
        "print(f\"訓練資料集裡總共有 {num_examples} 筆數據\")"
      ],
      "execution_count": 27,
      "outputs": [
        {
          "output_type": "stream",
          "text": [
            "所有英文與中文序列長度都不超過 40 個 tokens\n",
            "訓練資料集裡總共有 29784 筆數據\n"
          ],
          "name": "stdout"
        }
      ]
    },
    {
      "cell_type": "markdown",
      "metadata": {
        "id": "UkV4l7nXR2IU"
      },
      "source": [
        "## 將 batch 裡的所有序列都 pad 到同樣長度"
      ]
    },
    {
      "cell_type": "code",
      "metadata": {
        "colab": {
          "base_uri": "https://localhost:8080/"
        },
        "id": "s5NxSlHVR4qJ",
        "outputId": "b7968869-7726-45e2-efd9-2e4a3bb0572e"
      },
      "source": [
        "BATCH_SIZE = 64\n",
        "# 將 batch 裡的所有序列都 pad 到同樣長度\n",
        "tmp_dataset = tmp_dataset.padded_batch(BATCH_SIZE, padded_shapes=([-1], [-1]))\n",
        "en_batch, zh_batch = next(iter(tmp_dataset))\n",
        "print(\"英文索引序列的 batch\")\n",
        "print(en_batch)\n",
        "print('-' * 20)\n",
        "print(\"中文索引序列的 batch\")\n",
        "print(zh_batch)"
      ],
      "execution_count": 28,
      "outputs": [
        {
          "output_type": "stream",
          "text": [
            "英文索引序列的 batch\n",
            "tf.Tensor(\n",
            "[[8113   16 1284 ...    0    0    0]\n",
            " [8113 1894 1302 ...    0    0    0]\n",
            " [8113   44   40 ...    0    0    0]\n",
            " ...\n",
            " [8113  122  506 ...    0    0    0]\n",
            " [8113   16  215 ...    0    0    0]\n",
            " [8113 7443 7889 ...    0    0    0]], shape=(64, 39), dtype=int64)\n",
            "--------------------\n",
            "中文索引序列的 batch\n",
            "tf.Tensor(\n",
            "[[4205   10  151 ...    0    0    0]\n",
            " [4205  206  275 ...    0    0    0]\n",
            " [4205    5   10 ...    0    0    0]\n",
            " ...\n",
            " [4205   34    6 ...    0    0    0]\n",
            " [4205  317  256 ...    0    0    0]\n",
            " [4205  167  326 ...    0    0    0]], shape=(64, 40), dtype=int64)\n"
          ],
          "name": "stdout"
        }
      ]
    },
    {
      "cell_type": "markdown",
      "metadata": {
        "id": "1zdu_fZVSFSr"
      },
      "source": [
        "## 從頭建立訓練集與驗證集"
      ]
    },
    {
      "cell_type": "code",
      "metadata": {
        "id": "h2NnmHPUSGRg"
      },
      "source": [
        "MAX_LENGTH = 40\n",
        "BATCH_SIZE = 128\n",
        "BUFFER_SIZE = 15000\n",
        "\n",
        "# 訓練集\n",
        "train_dataset = (train_examples  # 輸出：(英文句子, 中文句子)\n",
        "                 .map(tf_encode) # 輸出：(英文索引序列, 中文索引序列)\n",
        "                 .filter(filter_max_length) # 同上，且序列長度都不超過 40\n",
        "                 .cache() # 加快讀取數據\n",
        "                 .shuffle(BUFFER_SIZE) # 將例子洗牌確保隨機性\n",
        "                 .padded_batch(BATCH_SIZE, # 將 batch 裡的序列都 pad 到一樣長度\n",
        "                               padded_shapes=([-1], [-1]))\n",
        "                 .prefetch(tf.data.experimental.AUTOTUNE)) # 加速\n",
        "# 驗證集\n",
        "val_dataset = (val_examples\n",
        "               .map(tf_encode)\n",
        "               .filter(filter_max_length)\n",
        "               .padded_batch(BATCH_SIZE, \n",
        "                             padded_shapes=([-1], [-1])))"
      ],
      "execution_count": 30,
      "outputs": []
    },
    {
      "cell_type": "markdown",
      "metadata": {
        "id": "KCgpANKnSKZ5"
      },
      "source": [
        "### Print Data"
      ]
    },
    {
      "cell_type": "code",
      "metadata": {
        "colab": {
          "base_uri": "https://localhost:8080/"
        },
        "id": "cMgLD7urSMKZ",
        "outputId": "376c4ee3-10aa-4712-a0aa-b726c5a0f758"
      },
      "source": [
        "en_batch, zh_batch = next(iter(train_dataset))\n",
        "print(\"英文索引序列的 batch\")\n",
        "print(en_batch)\n",
        "print('-' * 20)\n",
        "print(\"中文索引序列的 batch\")\n",
        "print(zh_batch)"
      ],
      "execution_count": 33,
      "outputs": [
        {
          "output_type": "stream",
          "text": [
            "英文索引序列的 batch\n",
            "tf.Tensor(\n",
            "[[8113 1381 3806 ...    0    0    0]\n",
            " [8113   16 2695 ...    0    0    0]\n",
            " [8113  279  110 ...    0    0    0]\n",
            " ...\n",
            " [8113 6109 4297 ...    0    0    0]\n",
            " [8113 3512   47 ...    0    0    0]\n",
            " [8113  190 3298 ...    0    0    0]], shape=(128, 39), dtype=int64)\n",
            "--------------------\n",
            "中文索引序列的 batch\n",
            "tf.Tensor(\n",
            "[[4205   41  474 ...    0    0    0]\n",
            " [4205   56  503 ...    0    0    0]\n",
            " [4205   76   97 ...    0    0    0]\n",
            " ...\n",
            " [4205   48   64 ...    0    0    0]\n",
            " [4205  631   43 ...  634    3 4206]\n",
            " [4205   16    4 ...    0    0    0]], shape=(128, 40), dtype=int64)\n"
          ],
          "name": "stdout"
        }
      ]
    },
    {
      "cell_type": "markdown",
      "metadata": {
        "id": "dbNy3JYUcFcX"
      },
      "source": [
        "# Test"
      ]
    },
    {
      "cell_type": "markdown",
      "metadata": {
        "id": "uKjlfNblcmaO"
      },
      "source": [
        "## 建立兩個要拿來持續追蹤的中英平行句子"
      ]
    },
    {
      "cell_type": "code",
      "metadata": {
        "colab": {
          "base_uri": "https://localhost:8080/"
        },
        "id": "NptxGN4jco61",
        "outputId": "99dc1f78-8417-454c-f05f-14c0ca69f5dd"
      },
      "source": [
        "demo_examples = [\n",
        "    (\"It is important.\", \"这很重要。\"),\n",
        "    (\"The numbers speak for themselves.\", \"数字证明了一切。\"),\n",
        "]\n",
        "pprint(demo_examples)"
      ],
      "execution_count": 34,
      "outputs": [
        {
          "output_type": "stream",
          "text": [
            "[('It is important.', '这很重要。'),\n",
            " ('The numbers speak for themselves.', '数字证明了一切。')]\n"
          ],
          "name": "stdout"
        }
      ]
    },
    {
      "cell_type": "code",
      "metadata": {
        "colab": {
          "base_uri": "https://localhost:8080/"
        },
        "id": "-1ykaLdicwxG",
        "outputId": "f2801d24-bb31-48e0-e49e-1c197bc9c527"
      },
      "source": [
        "batch_size = 2\n",
        "demo_examples = tf.data.Dataset.from_tensor_slices((\n",
        "    [en for en, _ in demo_examples], [zh for _, zh in demo_examples]\n",
        "))\n",
        "\n",
        "# 將兩個句子透過之前定義的字典轉換成子詞的序列（sequence of subwords）\n",
        "# 並添加 padding token: <pad> 來確保 batch 裡的句子有一樣長度\n",
        "demo_dataset = demo_examples.map(tf_encode)\\\n",
        "  .padded_batch(batch_size, padded_shapes=([-1], [-1]))\n",
        "\n",
        "# 取出這個 demo dataset 裡唯一一個 batch\n",
        "inp, tar = next(iter(demo_dataset))\n",
        "print('inp:', inp)\n",
        "print('' * 10)\n",
        "print('tar:', tar)"
      ],
      "execution_count": 35,
      "outputs": [
        {
          "output_type": "stream",
          "text": [
            "inp: tf.Tensor(\n",
            "[[8113  103    9 1066 7903 8114    0    0]\n",
            " [8113   16 4111 6735   12 2750 7903 8114]], shape=(2, 8), dtype=int64)\n",
            "\n",
            "tar: tf.Tensor(\n",
            "[[4205   10  241   86   27    3 4206    0    0    0]\n",
            " [4205  165  489  398  191   14    7  560    3 4206]], shape=(2, 10), dtype=int64)\n"
          ],
          "name": "stdout"
        }
      ]
    },
    {
      "cell_type": "markdown",
      "metadata": {
        "id": "UfPs7p6Sc4xt"
      },
      "source": [
        "## 視覺化 3 維詞嵌入張量"
      ]
    },
    {
      "cell_type": "code",
      "metadata": {
        "colab": {
          "base_uri": "https://localhost:8080/"
        },
        "id": "qAjg7lp0c5nW",
        "outputId": "c5334b3a-2b1b-484d-9d8b-063b89947aff"
      },
      "source": [
        "# + 2 是因為我們額外加了 <start> 以及 <end> tokens\n",
        "vocab_size_en = subword_encoder_en.vocab_size + 2\n",
        "vocab_size_zh = subword_encoder_zh.vocab_size + 2\n",
        "\n",
        "# 為了方便 demo, 將詞彙轉換到一個 4 維的詞嵌入空間\n",
        "d_model = 4\n",
        "embedding_layer_en = tf.keras.layers.Embedding(vocab_size_en, d_model)\n",
        "embedding_layer_zh = tf.keras.layers.Embedding(vocab_size_zh, d_model)\n",
        "\n",
        "emb_inp = embedding_layer_en(inp)\n",
        "emb_tar = embedding_layer_zh(tar)\n",
        "emb_inp, emb_tar"
      ],
      "execution_count": 36,
      "outputs": [
        {
          "output_type": "execute_result",
          "data": {
            "text/plain": [
              "(<tf.Tensor: shape=(2, 8, 4), dtype=float32, numpy=\n",
              " array([[[ 0.02807367,  0.03455831, -0.00592906,  0.02499617],\n",
              "         [ 0.01432918,  0.02194908, -0.03300651, -0.00862454],\n",
              "         [ 0.04628053,  0.0115247 , -0.0049338 ,  0.01226263],\n",
              "         [-0.02770383, -0.02904369, -0.04239569,  0.04483496],\n",
              "         [ 0.01210568,  0.01186813, -0.00836542,  0.00577604],\n",
              "         [-0.02502134, -0.04595632, -0.04937274,  0.04308422],\n",
              "         [-0.00668443,  0.03884761,  0.0326353 , -0.04964892],\n",
              "         [-0.00668443,  0.03884761,  0.0326353 , -0.04964892]],\n",
              " \n",
              "        [[ 0.02807367,  0.03455831, -0.00592906,  0.02499617],\n",
              "         [ 0.02898879,  0.03546881,  0.02735504,  0.0322384 ],\n",
              "         [ 0.01250697,  0.00058944,  0.01443725,  0.00879383],\n",
              "         [ 0.03890349,  0.03687091, -0.0491871 ,  0.03005183],\n",
              "         [ 0.01068056,  0.01234149, -0.04494428, -0.00480147],\n",
              "         [ 0.02367078,  0.03079415,  0.02275873,  0.03091809],\n",
              "         [ 0.01210568,  0.01186813, -0.00836542,  0.00577604],\n",
              "         [-0.02502134, -0.04595632, -0.04937274,  0.04308422]]],\n",
              "       dtype=float32)>, <tf.Tensor: shape=(2, 10, 4), dtype=float32, numpy=\n",
              " array([[[-0.02282319, -0.01055995,  0.04843744,  0.00783952],\n",
              "         [-0.01079856, -0.03693919,  0.04829888, -0.01448965],\n",
              "         [ 0.04000619, -0.02590526, -0.02988156, -0.01879985],\n",
              "         [ 0.00214509,  0.00248455,  0.02427474,  0.00176178],\n",
              "         [-0.01569381, -0.03003497, -0.03855526, -0.02174056],\n",
              "         [ 0.0400285 , -0.0332581 , -0.0009184 ,  0.03477527],\n",
              "         [ 0.02867664,  0.01880774,  0.03228236, -0.01565862],\n",
              "         [-0.02838035,  0.01158942, -0.02495556, -0.02071409],\n",
              "         [-0.02838035,  0.01158942, -0.02495556, -0.02071409],\n",
              "         [-0.02838035,  0.01158942, -0.02495556, -0.02071409]],\n",
              " \n",
              "        [[-0.02282319, -0.01055995,  0.04843744,  0.00783952],\n",
              "         [ 0.01627392,  0.03977975, -0.00313966, -0.00550129],\n",
              "         [-0.0023957 , -0.04361086, -0.02027133,  0.04017763],\n",
              "         [ 0.02209036, -0.01153525,  0.03878719, -0.04587317],\n",
              "         [-0.00930882, -0.01075454, -0.02002564,  0.00003041],\n",
              "         [-0.02127123, -0.02358091, -0.03141426, -0.03459009],\n",
              "         [ 0.01321514, -0.00758296,  0.03461019,  0.0250724 ],\n",
              "         [-0.03315058, -0.03677864,  0.02746859,  0.02740859],\n",
              "         [ 0.0400285 , -0.0332581 , -0.0009184 ,  0.03477527],\n",
              "         [ 0.02867664,  0.01880774,  0.03228236, -0.01565862]]],\n",
              "       dtype=float32)>)"
            ]
          },
          "metadata": {
            "tags": []
          },
          "execution_count": 36
        }
      ]
    },
    {
      "cell_type": "code",
      "metadata": {
        "colab": {
          "base_uri": "https://localhost:8080/"
        },
        "id": "lq7k9DTjdAyZ",
        "outputId": "d95c3c45-eb57-4d1c-8b83-ad426b9172b1"
      },
      "source": [
        "print(\"tar[0]:\", tar[0][-3:])\n",
        "print(\"-\" * 20)\n",
        "print(\"emb_tar[0]:\", emb_tar[0][-3:])"
      ],
      "execution_count": 37,
      "outputs": [
        {
          "output_type": "stream",
          "text": [
            "tar[0]: tf.Tensor([0 0 0], shape=(3,), dtype=int64)\n",
            "--------------------\n",
            "emb_tar[0]: tf.Tensor(\n",
            "[[-0.02838035  0.01158942 -0.02495556 -0.02071409]\n",
            " [-0.02838035  0.01158942 -0.02495556 -0.02071409]\n",
            " [-0.02838035  0.01158942 -0.02495556 -0.02071409]], shape=(3, 4), dtype=float32)\n"
          ],
          "name": "stdout"
        }
      ]
    },
    {
      "cell_type": "markdown",
      "metadata": {
        "id": "BnkXx4WhdIPm"
      },
      "source": [
        "## 遮罩（masking)"
      ]
    },
    {
      "cell_type": "markdown",
      "metadata": {
        "id": "uNefSfL0dNVY"
      },
      "source": [
        "padding mask"
      ]
    },
    {
      "cell_type": "code",
      "metadata": {
        "colab": {
          "base_uri": "https://localhost:8080/"
        },
        "id": "-rEEa0ovdJ8N",
        "outputId": "738e0aa5-2fd5-489d-ae12-a97f3a438494"
      },
      "source": [
        "def create_padding_mask(seq):\n",
        "  # padding mask 的工作就是把索引序列中為 0 的位置設為 1\n",
        "  mask = tf.cast(tf.equal(seq, 0), tf.float32)\n",
        "  return mask[:, tf.newaxis, tf.newaxis, :] #　broadcasting\n",
        "\n",
        "inp_mask = create_padding_mask(inp)\n",
        "inp_mask"
      ],
      "execution_count": 38,
      "outputs": [
        {
          "output_type": "execute_result",
          "data": {
            "text/plain": [
              "<tf.Tensor: shape=(2, 1, 1, 8), dtype=float32, numpy=\n",
              "array([[[[0., 0., 0., 0., 0., 0., 1., 1.]]],\n",
              "\n",
              "\n",
              "       [[[0., 0., 0., 0., 0., 0., 0., 0.]]]], dtype=float32)>"
            ]
          },
          "metadata": {
            "tags": []
          },
          "execution_count": 38
        }
      ]
    },
    {
      "cell_type": "code",
      "metadata": {
        "colab": {
          "base_uri": "https://localhost:8080/"
        },
        "id": "oEj89lLSdR0b",
        "outputId": "7c65c686-a206-4983-918e-d075cb53283e"
      },
      "source": [
        "print(\"inp:\", inp)\n",
        "print(\"-\" * 20)\n",
        "print(\"tf.squeeze(inp_mask):\", tf.squeeze(inp_mask))"
      ],
      "execution_count": 39,
      "outputs": [
        {
          "output_type": "stream",
          "text": [
            "inp: tf.Tensor(\n",
            "[[8113  103    9 1066 7903 8114    0    0]\n",
            " [8113   16 4111 6735   12 2750 7903 8114]], shape=(2, 8), dtype=int64)\n",
            "--------------------\n",
            "tf.squeeze(inp_mask): tf.Tensor(\n",
            "[[0. 0. 0. 0. 0. 0. 1. 1.]\n",
            " [0. 0. 0. 0. 0. 0. 0. 0.]], shape=(2, 8), dtype=float32)\n"
          ],
          "name": "stdout"
        }
      ]
    },
    {
      "cell_type": "markdown",
      "metadata": {
        "id": "fKTv9pZFdXQp"
      },
      "source": [
        "## Scaled dot product attention"
      ]
    },
    {
      "cell_type": "code",
      "metadata": {
        "colab": {
          "base_uri": "https://localhost:8080/"
        },
        "id": "q18lkFMpdYM6",
        "outputId": "685d938e-0749-4643-f98e-85728d3369f5"
      },
      "source": [
        "# 設定一個 seed 確保我們每次都拿到一樣的隨機結果\n",
        "tf.random.set_seed(9527)\n",
        "\n",
        "# 自注意力機制：查詢 `q` 跟鍵值 `k` 都是 `emb_inp`\n",
        "q = emb_inp\n",
        "k = emb_inp\n",
        "# 簡單產生一個跟 `emb_inp` 同樣 shape 的 binary vector\n",
        "v = tf.cast(tf.math.greater(tf.random.uniform(shape=emb_inp.shape), 0.5), tf.float32)\n",
        "v"
      ],
      "execution_count": 40,
      "outputs": [
        {
          "output_type": "execute_result",
          "data": {
            "text/plain": [
              "<tf.Tensor: shape=(2, 8, 4), dtype=float32, numpy=\n",
              "array([[[1., 0., 0., 0.],\n",
              "        [0., 1., 0., 1.],\n",
              "        [0., 0., 0., 1.],\n",
              "        [1., 0., 1., 0.],\n",
              "        [1., 0., 1., 0.],\n",
              "        [0., 1., 0., 1.],\n",
              "        [0., 0., 1., 0.],\n",
              "        [0., 1., 0., 1.]],\n",
              "\n",
              "       [[1., 0., 1., 1.],\n",
              "        [1., 0., 1., 0.],\n",
              "        [1., 0., 0., 0.],\n",
              "        [1., 0., 1., 0.],\n",
              "        [0., 1., 0., 1.],\n",
              "        [1., 1., 1., 1.],\n",
              "        [0., 0., 0., 0.],\n",
              "        [0., 0., 1., 0.]]], dtype=float32)>"
            ]
          },
          "metadata": {
            "tags": []
          },
          "execution_count": 40
        }
      ]
    },
    {
      "cell_type": "markdown",
      "metadata": {
        "id": "5vqOLBAfdphx"
      },
      "source": [
        " scaled dot product attention 在 TensorFlow 裡是怎麼被實作"
      ]
    },
    {
      "cell_type": "code",
      "metadata": {
        "id": "5Z0fkIQ8duVo"
      },
      "source": [
        "def scaled_dot_product_attention(q, k, v, mask):\n",
        "  # 將 `q`、 `k` 做點積再 scale\n",
        "  matmul_qk = tf.matmul(q, k, transpose_b=True)  # (..., seq_len_q, seq_len_k)\n",
        "  \n",
        "  dk = tf.cast(tf.shape(k)[-1], tf.float32)  # 取得 seq_k 的序列長度\n",
        "  scaled_attention_logits = matmul_qk / tf.math.sqrt(dk)  # scale by sqrt(dk)\n",
        "\n",
        "  # 將遮罩「加」到被丟入 softmax 前的 logits\n",
        "  if mask is not None:\n",
        "    scaled_attention_logits += (mask * -1e9)\n",
        "\n",
        "  # 取 softmax 是為了得到總和為 1 的比例之後對 `v` 做加權平均\n",
        "  attention_weights = tf.nn.softmax(scaled_attention_logits, axis=-1)  # (..., seq_len_q, seq_len_k)\n",
        "  \n",
        "  # 以注意權重對 v 做加權平均（weighted average）\n",
        "  output = tf.matmul(attention_weights, v)  # (..., seq_len_q, depth_v)\n",
        "\n",
        "  return output, attention_weights"
      ],
      "execution_count": 41,
      "outputs": []
    },
    {
      "cell_type": "markdown",
      "metadata": {
        "id": "V-W_pRoYdjtY"
      },
      "source": [
        "假設沒有遮罩的存在"
      ]
    },
    {
      "cell_type": "code",
      "metadata": {
        "colab": {
          "base_uri": "https://localhost:8080/"
        },
        "id": "-iQrYZlZdlyE",
        "outputId": "d00893c3-6aec-488d-a5c1-dfd0e0c86ad4"
      },
      "source": [
        "mask = None\n",
        "output, attention_weights = scaled_dot_product_attention(q, k, v, mask)\n",
        "print(\"output:\", output)\n",
        "print(\"-\" * 20)\n",
        "print(\"attention_weights:\", attention_weights)"
      ],
      "execution_count": 42,
      "outputs": [
        {
          "output_type": "stream",
          "text": [
            "output: tf.Tensor(\n",
            "[[[0.3750844  0.3748821  0.3749017  0.49997115]\n",
            "  [0.37500083 0.37500525 0.37493622 0.50002927]\n",
            "  [0.37504837 0.37488845 0.3748818  0.50001633]\n",
            "  [0.37528503 0.37506896 0.3750264  0.5000073 ]\n",
            "  [0.3750279  0.37496698 0.37495765 0.5000004 ]\n",
            "  [0.3753038  0.37509248 0.37502626 0.5000333 ]\n",
            "  [0.3747037  0.37500647 0.37503937 0.49997255]\n",
            "  [0.3747037  0.37500647 0.37503937 0.49997255]]\n",
            "\n",
            " [[0.62523705 0.25000706 0.62514794 0.37507454]\n",
            "  [0.6253935  0.2500028  0.6251825  0.3750856 ]\n",
            "  [0.6251143  0.24999383 0.6250446  0.37501097]\n",
            "  [0.6251043  0.250002   0.6251663  0.37506598]\n",
            "  [0.6248883  0.25001392 0.6249963  0.37502006]\n",
            "  [0.62533635 0.24999917 0.6251669  0.37507024]\n",
            "  [0.625059   0.25000522 0.62504184 0.3750273 ]\n",
            "  [0.62457716 0.2499084  0.6250595  0.37482446]]], shape=(2, 8, 4), dtype=float32)\n",
            "--------------------\n",
            "attention_weights: tf.Tensor(\n",
            "[[[0.12512714 0.12503324 0.12508903 0.12493636 0.12502092 0.12490441\n",
            "   0.12494446 0.12494446]\n",
            "  [0.12503451 0.1250789  0.12502402 0.12496184 0.12500446 0.12495638\n",
            "   0.12496994 0.12496994]\n",
            "  [0.12510188 0.1250356  0.12512791 0.12492117 0.12502533 0.12491755\n",
            "   0.12493531 0.12493531]\n",
            "  [0.1249663  0.12499053 0.12493829 0.125331   0.12498774 0.12537074\n",
            "   0.12470769 0.12470769]\n",
            "  [0.12504187 0.12502414 0.12503344 0.12497871 0.12500729 0.12497122\n",
            "   0.12497164 0.12497164]\n",
            "  [0.12494049 0.12499122 0.12494082 0.12537691 0.12498639 0.1254383\n",
            "   0.12466297 0.12466297]\n",
            "  [0.12498807 0.1250123  0.12496608 0.12472131 0.12499432 0.12467047\n",
            "   0.12532371 0.12532371]\n",
            "  [0.12498807 0.1250123  0.12496608 0.12472131 0.12499432 0.12467047\n",
            "   0.12532371 0.12532371]]\n",
            "\n",
            " [[0.12506747 0.12507002 0.12493393 0.12511542 0.12495685 0.12505022\n",
            "   0.1249613  0.12484483]\n",
            "  [0.12508279 0.12515804 0.12498144 0.12504375 0.12487532 0.12512748\n",
            "   0.12496065 0.12477047]\n",
            "  [0.12501714 0.1250519  0.12501317 0.12498943 0.12495113 0.12504269\n",
            "   0.12499105 0.12494341]\n",
            "  [0.12506399 0.12497959 0.12485489 0.12523834 0.12503447 0.12496753\n",
            "   0.12494426 0.12491689]\n",
            "  [0.12500614 0.12491181 0.12491721 0.12513521 0.12509596 0.12491795\n",
            "   0.12499058 0.1250252 ]\n",
            "  [0.12507108 0.12513559 0.12498032 0.12503979 0.12488955 0.12510961\n",
            "   0.12496317 0.12481086]\n",
            "  [0.1250221  0.12500867 0.12496863 0.12505646 0.1250021  0.12500311\n",
            "   0.12498753 0.12495146]\n",
            "  [0.12491605 0.12482888 0.12493147 0.12503955 0.12504719 0.12486121\n",
            "   0.12496193 0.12541376]]], shape=(2, 8, 8), dtype=float32)\n"
          ],
          "name": "stdout"
        }
      ]
    },
    {
      "cell_type": "markdown",
      "metadata": {
        "id": "FQZ_qp-xeLu7"
      },
      "source": [
        "為何遮罩要放在 softmax 之前而不能放之後？"
      ]
    },
    {
      "cell_type": "code",
      "metadata": {
        "colab": {
          "base_uri": "https://localhost:8080/"
        },
        "id": "MLKUCzMnec8F",
        "outputId": "6d5d04f4-477e-4e54-f714-1071caa54192"
      },
      "source": [
        "def create_padding_mask(seq):\n",
        "  # padding mask 的工作就是把索引序列中為 0 的位置設為 1\n",
        "  mask = tf.cast(tf.equal(seq, 0), tf.float32)\n",
        "  return mask[:, tf.newaxis, tf.newaxis, :] #　broadcasting\n",
        "\n",
        "print(\"inp:\", inp)\n",
        "inp_mask = create_padding_mask(inp)\n",
        "print(\"-\" * 20)\n",
        "print(\"inp_mask:\", inp_mask)"
      ],
      "execution_count": 43,
      "outputs": [
        {
          "output_type": "stream",
          "text": [
            "inp: tf.Tensor(\n",
            "[[8113  103    9 1066 7903 8114    0    0]\n",
            " [8113   16 4111 6735   12 2750 7903 8114]], shape=(2, 8), dtype=int64)\n",
            "--------------------\n",
            "inp_mask: tf.Tensor(\n",
            "[[[[0. 0. 0. 0. 0. 0. 1. 1.]]]\n",
            "\n",
            "\n",
            " [[[0. 0. 0. 0. 0. 0. 0. 0.]]]], shape=(2, 1, 1, 8), dtype=float32)\n"
          ],
          "name": "stdout"
        }
      ]
    },
    {
      "cell_type": "code",
      "metadata": {
        "colab": {
          "base_uri": "https://localhost:8080/"
        },
        "id": "rStJGcnAemZd",
        "outputId": "cc8ae429-1914-45f3-8b1f-55e93beb7762"
      },
      "source": [
        "# 這次讓我們將 padding mask 放入注意函式並觀察\n",
        "# 注意權重的變化\n",
        "mask = tf.squeeze(inp_mask, axis=1) # (batch_size, 1, seq_len_q)\n",
        "_, attention_weights = scaled_dot_product_attention(q, k, v, mask)\n",
        "print(\"attention_weights:\", attention_weights)"
      ],
      "execution_count": 44,
      "outputs": [
        {
          "output_type": "stream",
          "text": [
            "attention_weights: tf.Tensor(\n",
            "[[[0.16681147 0.16668628 0.16676068 0.16655713 0.16666988 0.16651453\n",
            "   0.         0.        ]\n",
            "  [0.16669932 0.16675851 0.16668534 0.16660243 0.16665927 0.16659516\n",
            "   0.         0.        ]\n",
            "  [0.16677374 0.16668537 0.16680844 0.16653283 0.1666717  0.16652802\n",
            "   0.         0.        ]\n",
            "  [0.16649197 0.16652425 0.16645464 0.16697784 0.16652052 0.1670308\n",
            "   0.         0.        ]\n",
            "  [0.16670991 0.16668627 0.16669868 0.16662571 0.16666381 0.16661571\n",
            "   0.         0.        ]\n",
            "  [0.1664377  0.16650528 0.16643815 0.16701907 0.16649885 0.16710086\n",
            "   0.         0.        ]\n",
            "  [0.16679476 0.16682708 0.1667654  0.16643879 0.16680309 0.16637091\n",
            "   0.         0.        ]\n",
            "  [0.16679476 0.16682708 0.1667654  0.16643879 0.16680309 0.16637091\n",
            "   0.         0.        ]]\n",
            "\n",
            " [[0.12506747 0.12507002 0.12493393 0.12511542 0.12495685 0.12505022\n",
            "   0.1249613  0.12484483]\n",
            "  [0.12508279 0.12515804 0.12498144 0.12504375 0.12487532 0.12512748\n",
            "   0.12496065 0.12477047]\n",
            "  [0.12501714 0.1250519  0.12501317 0.12498943 0.12495113 0.12504269\n",
            "   0.12499105 0.12494341]\n",
            "  [0.12506399 0.12497959 0.12485489 0.12523834 0.12503447 0.12496753\n",
            "   0.12494426 0.12491689]\n",
            "  [0.12500614 0.12491181 0.12491721 0.12513521 0.12509596 0.12491795\n",
            "   0.12499058 0.1250252 ]\n",
            "  [0.12507108 0.12513559 0.12498032 0.12503979 0.12488955 0.12510961\n",
            "   0.12496317 0.12481086]\n",
            "  [0.1250221  0.12500867 0.12496863 0.12505646 0.1250021  0.12500311\n",
            "   0.12498753 0.12495146]\n",
            "  [0.12491605 0.12482888 0.12493147 0.12503955 0.12504719 0.12486121\n",
            "   0.12496193 0.12541376]]], shape=(2, 8, 8), dtype=float32)\n"
          ],
          "name": "stdout"
        }
      ]
    },
    {
      "cell_type": "code",
      "metadata": {
        "colab": {
          "base_uri": "https://localhost:8080/"
        },
        "id": "6MN9XggeeseW",
        "outputId": "1b4aaebd-3f4a-4596-ddf8-a6e77a5f33dc"
      },
      "source": [
        "# 事實上也不完全是上句話的翻譯，\n",
        "# 因為我們在第一個維度還是把兩個句子都拿出來方便你比較\n",
        "attention_weights[:, :, -2:]"
      ],
      "execution_count": 45,
      "outputs": [
        {
          "output_type": "execute_result",
          "data": {
            "text/plain": [
              "<tf.Tensor: shape=(2, 8, 2), dtype=float32, numpy=\n",
              "array([[[0.        , 0.        ],\n",
              "        [0.        , 0.        ],\n",
              "        [0.        , 0.        ],\n",
              "        [0.        , 0.        ],\n",
              "        [0.        , 0.        ],\n",
              "        [0.        , 0.        ],\n",
              "        [0.        , 0.        ],\n",
              "        [0.        , 0.        ]],\n",
              "\n",
              "       [[0.1249613 , 0.12484483],\n",
              "        [0.12496065, 0.12477047],\n",
              "        [0.12499105, 0.12494341],\n",
              "        [0.12494426, 0.12491689],\n",
              "        [0.12499058, 0.1250252 ],\n",
              "        [0.12496317, 0.12481086],\n",
              "        [0.12498753, 0.12495146],\n",
              "        [0.12496193, 0.12541376]]], dtype=float32)>"
            ]
          },
          "metadata": {
            "tags": []
          },
          "execution_count": 45
        }
      ]
    },
    {
      "cell_type": "markdown",
      "metadata": {
        "id": "ZDslo8oZewLN"
      },
      "source": [
        "第一個英文句子的最後 2 個位置因為是 <pad> 所以被遮罩「蓋住」而沒有權重值（上方 2 維陣列）；第二個句子的序列（下方 2 維陣列）則因為最後 2 個位置仍是正常的英文子詞，因此都有被其他子詞關注。"
      ]
    },
    {
      "cell_type": "markdown",
      "metadata": {
        "id": "7Y469uqse0CF"
      },
      "source": [
        "look ahead mask"
      ]
    },
    {
      "cell_type": "code",
      "metadata": {
        "colab": {
          "base_uri": "https://localhost:8080/"
        },
        "id": "mLSwx1Mbe09G",
        "outputId": "66804237-ddda-4283-abb7-cb09bb1557b9"
      },
      "source": [
        "# 建立一個 2 維矩陣，維度為 (size, size)，\n",
        "# 其遮罩為一個右上角的三角形\n",
        "def create_look_ahead_mask(size):\n",
        "  mask = 1 - tf.linalg.band_part(tf.ones((size, size)), -1, 0)\n",
        "  return mask  # (seq_len, seq_len)\n",
        "\n",
        "seq_len = emb_tar.shape[1] # 注意這次我們用中文的詞嵌入張量 `emb_tar`\n",
        "look_ahead_mask = create_look_ahead_mask(seq_len)\n",
        "print(\"emb_tar:\", emb_tar)\n",
        "print(\"-\" * 20)\n",
        "print(\"look_ahead_mask\", look_ahead_mask)"
      ],
      "execution_count": 46,
      "outputs": [
        {
          "output_type": "stream",
          "text": [
            "emb_tar: tf.Tensor(\n",
            "[[[-0.02282319 -0.01055995  0.04843744  0.00783952]\n",
            "  [-0.01079856 -0.03693919  0.04829888 -0.01448965]\n",
            "  [ 0.04000619 -0.02590526 -0.02988156 -0.01879985]\n",
            "  [ 0.00214509  0.00248455  0.02427474  0.00176178]\n",
            "  [-0.01569381 -0.03003497 -0.03855526 -0.02174056]\n",
            "  [ 0.0400285  -0.0332581  -0.0009184   0.03477527]\n",
            "  [ 0.02867664  0.01880774  0.03228236 -0.01565862]\n",
            "  [-0.02838035  0.01158942 -0.02495556 -0.02071409]\n",
            "  [-0.02838035  0.01158942 -0.02495556 -0.02071409]\n",
            "  [-0.02838035  0.01158942 -0.02495556 -0.02071409]]\n",
            "\n",
            " [[-0.02282319 -0.01055995  0.04843744  0.00783952]\n",
            "  [ 0.01627392  0.03977975 -0.00313966 -0.00550129]\n",
            "  [-0.0023957  -0.04361086 -0.02027133  0.04017763]\n",
            "  [ 0.02209036 -0.01153525  0.03878719 -0.04587317]\n",
            "  [-0.00930882 -0.01075454 -0.02002564  0.00003041]\n",
            "  [-0.02127123 -0.02358091 -0.03141426 -0.03459009]\n",
            "  [ 0.01321514 -0.00758296  0.03461019  0.0250724 ]\n",
            "  [-0.03315058 -0.03677864  0.02746859  0.02740859]\n",
            "  [ 0.0400285  -0.0332581  -0.0009184   0.03477527]\n",
            "  [ 0.02867664  0.01880774  0.03228236 -0.01565862]]], shape=(2, 10, 4), dtype=float32)\n",
            "--------------------\n",
            "look_ahead_mask tf.Tensor(\n",
            "[[0. 1. 1. 1. 1. 1. 1. 1. 1. 1.]\n",
            " [0. 0. 1. 1. 1. 1. 1. 1. 1. 1.]\n",
            " [0. 0. 0. 1. 1. 1. 1. 1. 1. 1.]\n",
            " [0. 0. 0. 0. 1. 1. 1. 1. 1. 1.]\n",
            " [0. 0. 0. 0. 0. 1. 1. 1. 1. 1.]\n",
            " [0. 0. 0. 0. 0. 0. 1. 1. 1. 1.]\n",
            " [0. 0. 0. 0. 0. 0. 0. 1. 1. 1.]\n",
            " [0. 0. 0. 0. 0. 0. 0. 0. 1. 1.]\n",
            " [0. 0. 0. 0. 0. 0. 0. 0. 0. 1.]\n",
            " [0. 0. 0. 0. 0. 0. 0. 0. 0. 0.]], shape=(10, 10), dtype=float32)\n"
          ],
          "name": "stdout"
        }
      ]
    },
    {
      "cell_type": "code",
      "metadata": {
        "colab": {
          "base_uri": "https://localhost:8080/"
        },
        "id": "LgS2IzV5e74e",
        "outputId": "86a97e5c-45e7-49ab-929c-a2d6929aa1cd"
      },
      "source": [
        "# 讓我們用目標語言（中文）的 batch\n",
        "# 來模擬 Decoder 處理的情況\n",
        "temp_q = temp_k = emb_tar\n",
        "temp_v = tf.cast(tf.math.greater(\n",
        "    tf.random.uniform(shape=emb_tar.shape), 0.5), tf.float32)\n",
        "\n",
        "# 將 look_ahead_mask 放入注意函式\n",
        "_, attention_weights = scaled_dot_product_attention(\n",
        "    temp_q, temp_k, temp_v, look_ahead_mask)\n",
        "\n",
        "print(\"attention_weights:\", attention_weights)"
      ],
      "execution_count": 47,
      "outputs": [
        {
          "output_type": "stream",
          "text": [
            "attention_weights: tf.Tensor(\n",
            "[[[1.         0.         0.         0.         0.         0.\n",
            "   0.         0.         0.         0.        ]\n",
            "  [0.49985483 0.5001452  0.         0.         0.         0.\n",
            "   0.         0.         0.         0.        ]\n",
            "  [0.33292553 0.33319005 0.33388445 0.         0.         0.\n",
            "   0.         0.         0.         0.        ]\n",
            "  [0.2500764  0.2500661  0.24984501 0.2500125  0.         0.\n",
            "   0.         0.         0.         0.        ]\n",
            "  [0.19982165 0.19993101 0.20012897 0.19984964 0.20026876 0.\n",
            "   0.         0.         0.         0.        ]\n",
            "  [0.16656435 0.16661285 0.16674525 0.1665957  0.16656305 0.1669189\n",
            "   0.         0.         0.         0.        ]\n",
            "  [0.1428714  0.14288525 0.14282867 0.14289115 0.14269242 0.14282571\n",
            "   0.14300545 0.         0.         0.        ]\n",
            "  [0.12496775 0.12495644 0.12500183 0.12497846 0.12511502 0.12488198\n",
            "   0.12495329 0.12514517 0.         0.        ]\n",
            "  [0.11106811 0.11105806 0.1110984  0.11107764 0.111199   0.11099189\n",
            "   0.11105527 0.1112258  0.1112258  0.        ]\n",
            "  [0.09995098 0.09994194 0.09997825 0.09995955 0.10006877 0.09988239\n",
            "   0.09993942 0.10009289 0.10009289 0.10009289]]\n",
            "\n",
            " [[1.         0.         0.         0.         0.         0.\n",
            "   0.         0.         0.         0.        ]\n",
            "  [0.4996407  0.50035924 0.         0.         0.         0.\n",
            "   0.         0.         0.         0.        ]\n",
            "  [0.33320504 0.33290872 0.33388624 0.         0.         0.\n",
            "   0.         0.         0.         0.        ]\n",
            "  [0.25004134 0.24990317 0.24962713 0.25042835 0.         0.\n",
            "   0.         0.         0.         0.        ]\n",
            "  [0.19994599 0.1999587  0.20010023 0.1999244  0.2000707  0.\n",
            "   0.         0.         0.         0.        ]\n",
            "  [0.16654077 0.16654603 0.16665612 0.16664311 0.1667189  0.16689506\n",
            "   0.         0.         0.         0.        ]\n",
            "  [0.1429571  0.14281532 0.14288232 0.14287996 0.14278671 0.1426923\n",
            "   0.14298622 0.         0.         0.        ]\n",
            "  [0.1251093  0.12480129 0.12508038 0.1249099  0.1249508  0.12492622\n",
            "   0.12503353 0.12518859 0.         0.        ]\n",
            "  [0.11105338 0.11102419 0.1112259  0.11105178 0.11107219 0.11100303\n",
            "   0.11116201 0.11111771 0.11128977 0.        ]\n",
            "  [0.10002162 0.10005223 0.09988368 0.10011165 0.09993644 0.09991597\n",
            "   0.10004029 0.09993301 0.09998965 0.10011547]]], shape=(2, 10, 10), dtype=float32)\n"
          ],
          "name": "stdout"
        }
      ]
    },
    {
      "cell_type": "code",
      "metadata": {
        "colab": {
          "base_uri": "https://localhost:8080/"
        },
        "id": "E4g3RQx2fBA0",
        "outputId": "68629da4-063d-485c-c252-49fcaf12cf4c"
      },
      "source": [
        "attention_weights[:, 0, :]"
      ],
      "execution_count": 48,
      "outputs": [
        {
          "output_type": "execute_result",
          "data": {
            "text/plain": [
              "<tf.Tensor: shape=(2, 10), dtype=float32, numpy=\n",
              "array([[1., 0., 0., 0., 0., 0., 0., 0., 0., 0.],\n",
              "       [1., 0., 0., 0., 0., 0., 0., 0., 0., 0.]], dtype=float32)>"
            ]
          },
          "metadata": {
            "tags": []
          },
          "execution_count": 48
        }
      ]
    },
    {
      "cell_type": "markdown",
      "metadata": {
        "id": "LTJOfse-fJ2I"
      },
      "source": [
        "## Multi-head attention"
      ]
    },
    {
      "cell_type": "markdown",
      "metadata": {
        "id": "9ATr1z1ZfYLV"
      },
      "source": [
        "### 先把一個 head 變成多個 heads"
      ]
    },
    {
      "cell_type": "code",
      "metadata": {
        "colab": {
          "base_uri": "https://localhost:8080/"
        },
        "id": "qCf7cIw3fKzU",
        "outputId": "4bb0c369-a334-41f8-f81f-ffd429ae6b52"
      },
      "source": [
        "def split_heads(x, d_model, num_heads):\n",
        "  # x.shape: (batch_size, seq_len, d_model)\n",
        "  batch_size = tf.shape(x)[0]\n",
        "  \n",
        "  # 我們要確保維度 `d_model` 可以被平分成 `num_heads` 個 `depth` 維度\n",
        "  assert d_model % num_heads == 0\n",
        "  depth = d_model // num_heads  # 這是分成多頭以後每個向量的維度 \n",
        "  \n",
        "  # 將最後一個 d_model 維度分成 num_heads 個 depth 維度。\n",
        "  # 最後一個維度變成兩個維度，張量 x 從 3 維到 4 維\n",
        "  # (batch_size, seq_len, num_heads, depth)\n",
        "  reshaped_x = tf.reshape(x, shape=(batch_size, -1, num_heads, depth))\n",
        "  \n",
        "  # 將 head 的維度拉前使得最後兩個維度為子詞以及其對應的 depth 向量\n",
        "  # (batch_size, num_heads, seq_len, depth)\n",
        "  output = tf.transpose(reshaped_x, perm=[0, 2, 1, 3])\n",
        "  \n",
        "  return output\n",
        "\n",
        "# 我們的 `emb_inp` 裡頭的子詞本來就是 4 維的詞嵌入向量\n",
        "d_model = 4\n",
        "# 將 4 維詞嵌入向量分為 2 個 head 的 2 維矩陣\n",
        "num_heads = 2\n",
        "x = emb_inp\n",
        "\n",
        "output = split_heads(x, d_model, num_heads)  \n",
        "print(\"x:\", x)\n",
        "print(\"output:\", output)"
      ],
      "execution_count": 49,
      "outputs": [
        {
          "output_type": "stream",
          "text": [
            "x: tf.Tensor(\n",
            "[[[ 0.02807367  0.03455831 -0.00592906  0.02499617]\n",
            "  [ 0.01432918  0.02194908 -0.03300651 -0.00862454]\n",
            "  [ 0.04628053  0.0115247  -0.0049338   0.01226263]\n",
            "  [-0.02770383 -0.02904369 -0.04239569  0.04483496]\n",
            "  [ 0.01210568  0.01186813 -0.00836542  0.00577604]\n",
            "  [-0.02502134 -0.04595632 -0.04937274  0.04308422]\n",
            "  [-0.00668443  0.03884761  0.0326353  -0.04964892]\n",
            "  [-0.00668443  0.03884761  0.0326353  -0.04964892]]\n",
            "\n",
            " [[ 0.02807367  0.03455831 -0.00592906  0.02499617]\n",
            "  [ 0.02898879  0.03546881  0.02735504  0.0322384 ]\n",
            "  [ 0.01250697  0.00058944  0.01443725  0.00879383]\n",
            "  [ 0.03890349  0.03687091 -0.0491871   0.03005183]\n",
            "  [ 0.01068056  0.01234149 -0.04494428 -0.00480147]\n",
            "  [ 0.02367078  0.03079415  0.02275873  0.03091809]\n",
            "  [ 0.01210568  0.01186813 -0.00836542  0.00577604]\n",
            "  [-0.02502134 -0.04595632 -0.04937274  0.04308422]]], shape=(2, 8, 4), dtype=float32)\n",
            "output: tf.Tensor(\n",
            "[[[[ 0.02807367  0.03455831]\n",
            "   [ 0.01432918  0.02194908]\n",
            "   [ 0.04628053  0.0115247 ]\n",
            "   [-0.02770383 -0.02904369]\n",
            "   [ 0.01210568  0.01186813]\n",
            "   [-0.02502134 -0.04595632]\n",
            "   [-0.00668443  0.03884761]\n",
            "   [-0.00668443  0.03884761]]\n",
            "\n",
            "  [[-0.00592906  0.02499617]\n",
            "   [-0.03300651 -0.00862454]\n",
            "   [-0.0049338   0.01226263]\n",
            "   [-0.04239569  0.04483496]\n",
            "   [-0.00836542  0.00577604]\n",
            "   [-0.04937274  0.04308422]\n",
            "   [ 0.0326353  -0.04964892]\n",
            "   [ 0.0326353  -0.04964892]]]\n",
            "\n",
            "\n",
            " [[[ 0.02807367  0.03455831]\n",
            "   [ 0.02898879  0.03546881]\n",
            "   [ 0.01250697  0.00058944]\n",
            "   [ 0.03890349  0.03687091]\n",
            "   [ 0.01068056  0.01234149]\n",
            "   [ 0.02367078  0.03079415]\n",
            "   [ 0.01210568  0.01186813]\n",
            "   [-0.02502134 -0.04595632]]\n",
            "\n",
            "  [[-0.00592906  0.02499617]\n",
            "   [ 0.02735504  0.0322384 ]\n",
            "   [ 0.01443725  0.00879383]\n",
            "   [-0.0491871   0.03005183]\n",
            "   [-0.04494428 -0.00480147]\n",
            "   [ 0.02275873  0.03091809]\n",
            "   [-0.00836542  0.00577604]\n",
            "   [-0.04937274  0.04308422]]]], shape=(2, 2, 8, 2), dtype=float32)\n"
          ],
          "name": "stdout"
        }
      ]
    },
    {
      "cell_type": "markdown",
      "metadata": {
        "id": "NXJjjqAWfiRT"
      },
      "source": [
        "### multi-head attention 的實現"
      ]
    },
    {
      "cell_type": "code",
      "metadata": {
        "id": "-1IzVwO8fjpK"
      },
      "source": [
        "# 實作一個執行多頭注意力機制的 keras layer\n",
        "# 在初始的時候指定輸出維度 `d_model` & `num_heads，\n",
        "# 在呼叫的時候輸入 `v`, `k`, `q` 以及 `mask`\n",
        "# 輸出跟 scaled_dot_product_attention 函式一樣有兩個：\n",
        "# output.shape            == (batch_size, seq_len_q, d_model)\n",
        "# attention_weights.shape == (batch_size, num_heads, seq_len_q, seq_len_k)\n",
        "class MultiHeadAttention(tf.keras.layers.Layer):\n",
        "  # 在初始的時候建立一些必要參數\n",
        "  def __init__(self, d_model, num_heads):\n",
        "    super(MultiHeadAttention, self).__init__()\n",
        "    self.num_heads = num_heads # 指定要將 `d_model` 拆成幾個 heads\n",
        "    self.d_model = d_model # 在 split_heads 之前的基底維度\n",
        "    \n",
        "    assert d_model % self.num_heads == 0  # 前面看過，要確保可以平分\n",
        "    \n",
        "    self.depth = d_model // self.num_heads  # 每個 head 裡子詞的新的 repr. 維度\n",
        "    \n",
        "    self.wq = tf.keras.layers.Dense(d_model)  # 分別給 q, k, v 的 3 個線性轉換 \n",
        "    self.wk = tf.keras.layers.Dense(d_model)  # 注意我們並沒有指定 activation func\n",
        "    self.wv = tf.keras.layers.Dense(d_model)\n",
        "    \n",
        "    self.dense = tf.keras.layers.Dense(d_model)  # 多 heads 串接後通過的線性轉換\n",
        "  \n",
        "  # 這跟我們前面看過的函式有 87% 相似\n",
        "  def split_heads(self, x, batch_size):\n",
        "    \"\"\"Split the last dimension into (num_heads, depth).\n",
        "    Transpose the result such that the shape is (batch_size, num_heads, seq_len, depth)\n",
        "    \"\"\"\n",
        "    x = tf.reshape(x, (batch_size, -1, self.num_heads, self.depth))\n",
        "    return tf.transpose(x, perm=[0, 2, 1, 3])\n",
        "  \n",
        "  # multi-head attention 的實際執行流程，注意參數順序（這邊跟論文以及 TensorFlow 官方教學一致）\n",
        "  def call(self, v, k, q, mask):\n",
        "    batch_size = tf.shape(q)[0]\n",
        "    \n",
        "    # 將輸入的 q, k, v 都各自做一次線性轉換到 `d_model` 維空間\n",
        "    q = self.wq(q)  # (batch_size, seq_len, d_model)\n",
        "    k = self.wk(k)  # (batch_size, seq_len, d_model)\n",
        "    v = self.wv(v)  # (batch_size, seq_len, d_model)\n",
        "    \n",
        "    # 前面看過的，將最後一個 `d_model` 維度分成 `num_heads` 個 `depth` 維度\n",
        "    q = self.split_heads(q, batch_size)  # (batch_size, num_heads, seq_len_q, depth)\n",
        "    k = self.split_heads(k, batch_size)  # (batch_size, num_heads, seq_len_k, depth)\n",
        "    v = self.split_heads(v, batch_size)  # (batch_size, num_heads, seq_len_v, depth)\n",
        "    \n",
        "    # 利用 broadcasting 讓每個句子的每個 head 的 qi, ki, vi 都各自進行注意力機制\n",
        "    # 輸出會多一個 head 維度\n",
        "    scaled_attention, attention_weights = scaled_dot_product_attention(\n",
        "        q, k, v, mask)\n",
        "    # scaled_attention.shape == (batch_size, num_heads, seq_len_q, depth)\n",
        "    # attention_weights.shape == (batch_size, num_heads, seq_len_q, seq_len_k)\n",
        "    \n",
        "    # 跟我們在 `split_heads` 函式做的事情剛好相反，先做 transpose 再做 reshape\n",
        "    # 將 `num_heads` 個 `depth` 維度串接回原來的 `d_model` 維度\n",
        "    scaled_attention = tf.transpose(scaled_attention, perm=[0, 2, 1, 3])\n",
        "    # (batch_size, seq_len_q, num_heads, depth)\n",
        "    concat_attention = tf.reshape(scaled_attention, \n",
        "                                  (batch_size, -1, self.d_model)) \n",
        "    # (batch_size, seq_len_q, d_model)\n",
        "\n",
        "    # 通過最後一個線性轉換\n",
        "    output = self.dense(concat_attention)  # (batch_size, seq_len_q, d_model)\n",
        "        \n",
        "    return output, attention_weights"
      ],
      "execution_count": 50,
      "outputs": []
    },
    {
      "cell_type": "code",
      "metadata": {
        "colab": {
          "base_uri": "https://localhost:8080/"
        },
        "id": "tuZnQELqfzMr",
        "outputId": "c36a98cc-79bc-4833-feb5-1f35498099a0"
      },
      "source": [
        "# emb_inp.shape == (batch_size, seq_len, d_model)\n",
        "#               == (2, 8, 4)\n",
        "assert d_model == emb_inp.shape[-1]  == 4\n",
        "num_heads = 2\n",
        "\n",
        "print(f\"d_model: {d_model}\")\n",
        "print(f\"num_heads: {num_heads}\\n\")\n",
        "\n",
        "# 初始化一個 multi-head attention layer\n",
        "mha = MultiHeadAttention(d_model, num_heads)\n",
        "\n",
        "# 簡單將 v, k, q 都設置為 `emb_inp`\n",
        "# 順便看看 padding mask 的作用。\n",
        "# 別忘記，第一個英文序列的最後兩個 tokens 是 <pad>\n",
        "v = k = q = emb_inp\n",
        "padding_mask = create_padding_mask(inp)\n",
        "print(\"q.shape:\", q.shape)\n",
        "print(\"k.shape:\", k.shape)\n",
        "print(\"v.shape:\", v.shape)\n",
        "print(\"padding_mask.shape:\", padding_mask.shape)\n",
        "\n",
        "output, attention_weights = mha(v, k, q, mask)\n",
        "print(\"output.shape:\", output.shape)\n",
        "print(\"attention_weights.shape:\", attention_weights.shape)\n",
        "\n",
        "print(\"\\noutput:\", output)"
      ],
      "execution_count": 51,
      "outputs": [
        {
          "output_type": "stream",
          "text": [
            "d_model: 4\n",
            "num_heads: 2\n",
            "\n",
            "q.shape: (2, 8, 4)\n",
            "k.shape: (2, 8, 4)\n",
            "v.shape: (2, 8, 4)\n",
            "padding_mask.shape: (2, 1, 1, 8)\n",
            "output.shape: (2, 8, 4)\n",
            "attention_weights.shape: (2, 2, 8, 8)\n",
            "\n",
            "output: tf.Tensor(\n",
            "[[[ 0.00916386 -0.00908436 -0.00758396  0.00172248]\n",
            "  [ 0.00914001 -0.00906638 -0.00759064  0.00170149]\n",
            "  [ 0.00915664 -0.00907908 -0.00758855  0.0017134 ]\n",
            "  [ 0.00918463 -0.00910074 -0.00755325  0.00176537]\n",
            "  [ 0.00915916 -0.00908091 -0.00758137  0.00172265]\n",
            "  [ 0.00918326 -0.00909988 -0.00755194  0.00176564]\n",
            "  [ 0.00914194 -0.00906726 -0.00759496  0.00170076]\n",
            "  [ 0.00914194 -0.00906726 -0.00759496  0.00170076]]\n",
            "\n",
            " [[-0.00662936  0.00738125  0.01306719  0.00949379]\n",
            "  [-0.00662197  0.00737575  0.01306622  0.00949617]\n",
            "  [-0.00663221  0.00738288  0.01307552  0.00950348]\n",
            "  [-0.00663212  0.007382    0.01306047  0.00948655]\n",
            "  [-0.00664668  0.00739465  0.0130782   0.00949801]\n",
            "  [-0.00662361  0.00737754  0.01306951  0.00949827]\n",
            "  [-0.00663744  0.00738769  0.01307673  0.00950077]\n",
            "  [-0.0066317   0.00738732  0.01309728  0.0095199 ]]], shape=(2, 8, 4), dtype=float32)\n"
          ],
          "name": "stdout"
        }
      ]
    },
    {
      "cell_type": "markdown",
      "metadata": {
        "id": "A216_jx4gBKL"
      },
      "source": [
        "## Position-wise Feed-Forward Networks"
      ]
    },
    {
      "cell_type": "code",
      "metadata": {
        "id": "DGrLRAgjgCqZ"
      },
      "source": [
        "# 建立 Transformer 裡 Encoder / Decoder layer 都有使用到的 Feed Forward 元件\n",
        "def point_wise_feed_forward_network(d_model, dff):\n",
        "  \n",
        "  # 此 FFN 對輸入做兩個線性轉換，中間加了一個 ReLU activation func\n",
        "  return tf.keras.Sequential([\n",
        "      tf.keras.layers.Dense(dff, activation='relu'),  # (batch_size, seq_len, dff)\n",
        "      tf.keras.layers.Dense(d_model)  # (batch_size, seq_len, d_model)\n",
        "  ])"
      ],
      "execution_count": 52,
      "outputs": []
    },
    {
      "cell_type": "markdown",
      "metadata": {
        "id": "WHiUmmdxgIZx"
      },
      "source": [
        "### 建立一個 FFN"
      ]
    },
    {
      "cell_type": "code",
      "metadata": {
        "colab": {
          "base_uri": "https://localhost:8080/"
        },
        "id": "Xf1LpEOQgJV8",
        "outputId": "0b91a6e1-b541-4218-ae12-f5d450dbcb75"
      },
      "source": [
        "batch_size = 64\n",
        "seq_len = 10\n",
        "d_model = 512\n",
        "dff = 2048\n",
        "\n",
        "x = tf.random.uniform((batch_size, seq_len, d_model))\n",
        "ffn = point_wise_feed_forward_network(d_model, dff)\n",
        "out = ffn(x)\n",
        "print(\"x.shape:\", x.shape)\n",
        "print(\"out.shape:\", out.shape)"
      ],
      "execution_count": 53,
      "outputs": [
        {
          "output_type": "stream",
          "text": [
            "x.shape: (64, 10, 512)\n",
            "out.shape: (64, 10, 512)\n"
          ],
          "name": "stdout"
        }
      ]
    },
    {
      "cell_type": "code",
      "metadata": {
        "colab": {
          "base_uri": "https://localhost:8080/"
        },
        "id": "n6JR_8CIgOIN",
        "outputId": "0b2df20f-fae7-41d7-a510-9c3f8704476c"
      },
      "source": [
        "d_model = 4 # FFN 的輸入輸出張量的最後一維皆為 `d_model`\n",
        "dff = 6\n",
        "\n",
        "# 建立一個小 FFN\n",
        "small_ffn = point_wise_feed_forward_network(d_model, dff)\n",
        "# 懂子詞梗的站出來\n",
        "dummy_sentence = tf.constant([[5, 5, 6, 6], \n",
        "                              [5, 5, 6, 6], \n",
        "                              [9, 5, 2, 7], \n",
        "                              [9, 5, 2, 7],\n",
        "                              [9, 5, 2, 7]], dtype=tf.float32)\n",
        "small_ffn(dummy_sentence)"
      ],
      "execution_count": 54,
      "outputs": [
        {
          "output_type": "execute_result",
          "data": {
            "text/plain": [
              "<tf.Tensor: shape=(5, 4), dtype=float32, numpy=\n",
              "array([[ 2.8674245 , -2.174698  , -1.3073453 , -6.4233937 ],\n",
              "       [ 2.8674245 , -2.174698  , -1.3073453 , -6.4233937 ],\n",
              "       [ 3.6502066 , -0.97325826, -2.4126563 , -6.509499  ],\n",
              "       [ 3.6502066 , -0.97325826, -2.4126563 , -6.509499  ],\n",
              "       [ 3.6502066 , -0.97325826, -2.4126563 , -6.509499  ]],\n",
              "      dtype=float32)>"
            ]
          },
          "metadata": {
            "tags": []
          },
          "execution_count": 54
        }
      ]
    },
    {
      "cell_type": "markdown",
      "metadata": {
        "id": "YWPtLWY_gR_F"
      },
      "source": [
        "# Encoder layer"
      ]
    },
    {
      "cell_type": "code",
      "metadata": {
        "id": "P9Y2JDm2gUPo"
      },
      "source": [
        "# Encoder 裡頭會有 N 個 EncoderLayers，而每個 EncoderLayer 裡又有兩個 sub-layers: MHA & FFN\n",
        "class EncoderLayer(tf.keras.layers.Layer):\n",
        "  # Transformer 論文內預設 dropout rate 為 0.1\n",
        "  def __init__(self, d_model, num_heads, dff, rate=0.1):\n",
        "    super(EncoderLayer, self).__init__()\n",
        "\n",
        "    self.mha = MultiHeadAttention(d_model, num_heads)\n",
        "    self.ffn = point_wise_feed_forward_network(d_model, dff)\n",
        "\n",
        "    # layer norm 很常在 RNN-based 的模型被使用。一個 sub-layer 一個 layer norm\n",
        "    self.layernorm1 = tf.keras.layers.LayerNormalization(epsilon=1e-6)\n",
        "    self.layernorm2 = tf.keras.layers.LayerNormalization(epsilon=1e-6)\n",
        "    \n",
        "    # 一樣，一個 sub-layer 一個 dropout layer\n",
        "    self.dropout1 = tf.keras.layers.Dropout(rate)\n",
        "    self.dropout2 = tf.keras.layers.Dropout(rate)\n",
        "    \n",
        "  # 需要丟入 `training` 參數是因為 dropout 在訓練以及測試的行為有所不同\n",
        "  def call(self, x, training, mask):\n",
        "    # 除了 `attn`，其他張量的 shape 皆為 (batch_size, input_seq_len, d_model)\n",
        "    # attn.shape == (batch_size, num_heads, input_seq_len, input_seq_len)\n",
        "    \n",
        "    # sub-layer 1: MHA\n",
        "    # Encoder 利用注意機制關注自己當前的序列，因此 v, k, q 全部都是自己\n",
        "    # 另外別忘了我們還需要 padding mask 來遮住輸入序列中的 <pad> token\n",
        "    attn_output, attn = self.mha(x, x, x, mask)  \n",
        "    attn_output = self.dropout1(attn_output, training=training) \n",
        "    out1 = self.layernorm1(x + attn_output)  \n",
        "    \n",
        "    # sub-layer 2: FFN\n",
        "    ffn_output = self.ffn(out1) \n",
        "    ffn_output = self.dropout2(ffn_output, training=training)  # 記得 training\n",
        "    out2 = self.layernorm2(out1 + ffn_output)\n",
        "    \n",
        "    return out2"
      ],
      "execution_count": 55,
      "outputs": []
    },
    {
      "cell_type": "code",
      "metadata": {
        "colab": {
          "base_uri": "https://localhost:8080/"
        },
        "id": "MTMPy3ujgcxJ",
        "outputId": "a3304c98-3bbd-48f2-c02d-df2db9674f3a"
      },
      "source": [
        "# 之後可以調的超參數。這邊為了 demo 設小一點\n",
        "d_model = 4\n",
        "num_heads = 2\n",
        "dff = 8\n",
        "\n",
        "# 新建一個使用上述參數的 Encoder Layer\n",
        "enc_layer = EncoderLayer(d_model, num_heads, dff)\n",
        "padding_mask = create_padding_mask(inp)  # 建立一個當前輸入 batch 使用的 padding mask\n",
        "enc_out = enc_layer(emb_inp, training=False, mask=padding_mask)  # (batch_size, seq_len, d_model)\n",
        "\n",
        "print(\"inp:\", inp)\n",
        "print(\"-\" * 20)\n",
        "print(\"padding_mask:\", padding_mask)\n",
        "print(\"-\" * 20)\n",
        "print(\"emb_inp:\", emb_inp)\n",
        "print(\"-\" * 20)\n",
        "print(\"enc_out:\", enc_out)\n",
        "assert emb_inp.shape == enc_out.shape"
      ],
      "execution_count": 56,
      "outputs": [
        {
          "output_type": "stream",
          "text": [
            "inp: tf.Tensor(\n",
            "[[8113  103    9 1066 7903 8114    0    0]\n",
            " [8113   16 4111 6735   12 2750 7903 8114]], shape=(2, 8), dtype=int64)\n",
            "--------------------\n",
            "padding_mask: tf.Tensor(\n",
            "[[[[0. 0. 0. 0. 0. 0. 1. 1.]]]\n",
            "\n",
            "\n",
            " [[[0. 0. 0. 0. 0. 0. 0. 0.]]]], shape=(2, 1, 1, 8), dtype=float32)\n",
            "--------------------\n",
            "emb_inp: tf.Tensor(\n",
            "[[[ 0.02807367  0.03455831 -0.00592906  0.02499617]\n",
            "  [ 0.01432918  0.02194908 -0.03300651 -0.00862454]\n",
            "  [ 0.04628053  0.0115247  -0.0049338   0.01226263]\n",
            "  [-0.02770383 -0.02904369 -0.04239569  0.04483496]\n",
            "  [ 0.01210568  0.01186813 -0.00836542  0.00577604]\n",
            "  [-0.02502134 -0.04595632 -0.04937274  0.04308422]\n",
            "  [-0.00668443  0.03884761  0.0326353  -0.04964892]\n",
            "  [-0.00668443  0.03884761  0.0326353  -0.04964892]]\n",
            "\n",
            " [[ 0.02807367  0.03455831 -0.00592906  0.02499617]\n",
            "  [ 0.02898879  0.03546881  0.02735504  0.0322384 ]\n",
            "  [ 0.01250697  0.00058944  0.01443725  0.00879383]\n",
            "  [ 0.03890349  0.03687091 -0.0491871   0.03005183]\n",
            "  [ 0.01068056  0.01234149 -0.04494428 -0.00480147]\n",
            "  [ 0.02367078  0.03079415  0.02275873  0.03091809]\n",
            "  [ 0.01210568  0.01186813 -0.00836542  0.00577604]\n",
            "  [-0.02502134 -0.04595632 -0.04937274  0.04308422]]], shape=(2, 8, 4), dtype=float32)\n",
            "--------------------\n",
            "enc_out: tf.Tensor(\n",
            "[[[-0.7180352   1.4323909  -1.1244874   0.4101316 ]\n",
            "  [-0.3731438   1.4403491  -1.3135681   0.24636279]\n",
            "  [ 0.42396766  1.0011508  -1.6618913   0.23677291]\n",
            "  [-1.0246521   0.63965714 -0.91809016  1.3030851 ]\n",
            "  [-0.8036809   1.462118   -1.0361613   0.37772405]\n",
            "  [-0.7380138   0.2602049  -1.0404452   1.518254  ]\n",
            "  [-0.4572801   1.7195784  -0.49469924 -0.7675989 ]\n",
            "  [-0.4572801   1.7195784  -0.49469924 -0.7675989 ]]\n",
            "\n",
            " [[-0.3841815   1.314565   -1.384842    0.45445853]\n",
            "  [-0.9826494   1.3677015  -0.93065137  0.5455992 ]\n",
            "  [ 0.84805155 -1.64579     0.04250942  0.75522894]\n",
            "  [-0.16514704  1.202444   -1.5158596   0.4785626 ]\n",
            "  [-0.11437728  1.2537354  -1.5093584   0.37000015]\n",
            "  [-1.0233918   1.2666937  -0.9336101   0.6903083 ]\n",
            "  [-0.24762936  1.2683611  -1.4614152   0.44068357]\n",
            "  [-0.31614232 -0.19741783 -1.1087236   1.6222838 ]]], shape=(2, 8, 4), dtype=float32)\n"
          ],
          "name": "stdout"
        }
      ]
    },
    {
      "cell_type": "markdown",
      "metadata": {
        "id": "BU1H0OItgi3y"
      },
      "source": [
        "# Decoder layer"
      ]
    },
    {
      "cell_type": "code",
      "metadata": {
        "id": "IzBxk-e_gigT"
      },
      "source": [
        "# Decoder 裡頭會有 N 個 DecoderLayer，\n",
        "# 而 DecoderLayer 又有三個 sub-layers: 自注意的 MHA, 關注 Encoder 輸出的 MHA & FFN\n",
        "class DecoderLayer(tf.keras.layers.Layer):\n",
        "  def __init__(self, d_model, num_heads, dff, rate=0.1):\n",
        "    super(DecoderLayer, self).__init__()\n",
        "\n",
        "    # 3 個 sub-layers 的主角們\n",
        "    self.mha1 = MultiHeadAttention(d_model, num_heads)\n",
        "    self.mha2 = MultiHeadAttention(d_model, num_heads)\n",
        "    self.ffn = point_wise_feed_forward_network(d_model, dff)\n",
        " \n",
        "    # 定義每個 sub-layer 用的 LayerNorm\n",
        "    self.layernorm1 = tf.keras.layers.LayerNormalization(epsilon=1e-6)\n",
        "    self.layernorm2 = tf.keras.layers.LayerNormalization(epsilon=1e-6)\n",
        "    self.layernorm3 = tf.keras.layers.LayerNormalization(epsilon=1e-6)\n",
        "    \n",
        "    # 定義每個 sub-layer 用的 Dropout\n",
        "    self.dropout1 = tf.keras.layers.Dropout(rate)\n",
        "    self.dropout2 = tf.keras.layers.Dropout(rate)\n",
        "    self.dropout3 = tf.keras.layers.Dropout(rate)\n",
        "    \n",
        "    \n",
        "  def call(self, x, enc_output, training, \n",
        "           combined_mask, inp_padding_mask):\n",
        "    # 所有 sub-layers 的主要輸出皆為 (batch_size, target_seq_len, d_model)\n",
        "    # enc_output 為 Encoder 輸出序列，shape 為 (batch_size, input_seq_len, d_model)\n",
        "    # attn_weights_block_1 則為 (batch_size, num_heads, target_seq_len, target_seq_len)\n",
        "    # attn_weights_block_2 則為 (batch_size, num_heads, target_seq_len, input_seq_len)\n",
        "\n",
        "    # sub-layer 1: Decoder layer 自己對輸出序列做注意力。\n",
        "    # 我們同時需要 look ahead mask 以及輸出序列的 padding mask \n",
        "    # 來避免前面已生成的子詞關注到未來的子詞以及 <pad>\n",
        "    attn1, attn_weights_block1 = self.mha1(x, x, x, combined_mask)\n",
        "    attn1 = self.dropout1(attn1, training=training)\n",
        "    out1 = self.layernorm1(attn1 + x)\n",
        "    \n",
        "    # sub-layer 2: Decoder layer 關注 Encoder 的最後輸出\n",
        "    # 記得我們一樣需要對 Encoder 的輸出套用 padding mask 避免關注到 <pad>\n",
        "    attn2, attn_weights_block2 = self.mha2(\n",
        "        enc_output, enc_output, out1, inp_padding_mask)  # (batch_size, target_seq_len, d_model)\n",
        "    attn2 = self.dropout2(attn2, training=training)\n",
        "    out2 = self.layernorm2(attn2 + out1)  # (batch_size, target_seq_len, d_model)\n",
        "    \n",
        "    # sub-layer 3: FFN 部分跟 Encoder layer 完全一樣\n",
        "    ffn_output = self.ffn(out2)  # (batch_size, target_seq_len, d_model)\n",
        "\n",
        "    ffn_output = self.dropout3(ffn_output, training=training)\n",
        "    out3 = self.layernorm3(ffn_output + out2)  # (batch_size, target_seq_len, d_model)\n",
        "    \n",
        "    # 除了主要輸出 `out3` 以外，輸出 multi-head 注意權重方便之後理解模型內部狀況\n",
        "    return out3, attn_weights_block1, attn_weights_block2"
      ],
      "execution_count": 57,
      "outputs": []
    },
    {
      "cell_type": "code",
      "metadata": {
        "colab": {
          "base_uri": "https://localhost:8080/"
        },
        "id": "lWUhornggqt_",
        "outputId": "a37b18c1-ae68-42e1-c37a-8673013504ba"
      },
      "source": [
        "tar_padding_mask = create_padding_mask(tar)\n",
        "look_ahead_mask = create_look_ahead_mask(tar.shape[-1])\n",
        "combined_mask = tf.maximum(tar_padding_mask, look_ahead_mask)\n",
        "\n",
        "print(\"tar:\", tar)\n",
        "print(\"-\" * 20)\n",
        "print(\"tar_padding_mask:\", tar_padding_mask)\n",
        "print(\"-\" * 20)\n",
        "print(\"look_ahead_mask:\", look_ahead_mask)\n",
        "print(\"-\" * 20)\n",
        "print(\"combined_mask:\", combined_mask)"
      ],
      "execution_count": 58,
      "outputs": [
        {
          "output_type": "stream",
          "text": [
            "tar: tf.Tensor(\n",
            "[[4205   10  241   86   27    3 4206    0    0    0]\n",
            " [4205  165  489  398  191   14    7  560    3 4206]], shape=(2, 10), dtype=int64)\n",
            "--------------------\n",
            "tar_padding_mask: tf.Tensor(\n",
            "[[[[0. 0. 0. 0. 0. 0. 0. 1. 1. 1.]]]\n",
            "\n",
            "\n",
            " [[[0. 0. 0. 0. 0. 0. 0. 0. 0. 0.]]]], shape=(2, 1, 1, 10), dtype=float32)\n",
            "--------------------\n",
            "look_ahead_mask: tf.Tensor(\n",
            "[[0. 1. 1. 1. 1. 1. 1. 1. 1. 1.]\n",
            " [0. 0. 1. 1. 1. 1. 1. 1. 1. 1.]\n",
            " [0. 0. 0. 1. 1. 1. 1. 1. 1. 1.]\n",
            " [0. 0. 0. 0. 1. 1. 1. 1. 1. 1.]\n",
            " [0. 0. 0. 0. 0. 1. 1. 1. 1. 1.]\n",
            " [0. 0. 0. 0. 0. 0. 1. 1. 1. 1.]\n",
            " [0. 0. 0. 0. 0. 0. 0. 1. 1. 1.]\n",
            " [0. 0. 0. 0. 0. 0. 0. 0. 1. 1.]\n",
            " [0. 0. 0. 0. 0. 0. 0. 0. 0. 1.]\n",
            " [0. 0. 0. 0. 0. 0. 0. 0. 0. 0.]], shape=(10, 10), dtype=float32)\n",
            "--------------------\n",
            "combined_mask: tf.Tensor(\n",
            "[[[[0. 1. 1. 1. 1. 1. 1. 1. 1. 1.]\n",
            "   [0. 0. 1. 1. 1. 1. 1. 1. 1. 1.]\n",
            "   [0. 0. 0. 1. 1. 1. 1. 1. 1. 1.]\n",
            "   [0. 0. 0. 0. 1. 1. 1. 1. 1. 1.]\n",
            "   [0. 0. 0. 0. 0. 1. 1. 1. 1. 1.]\n",
            "   [0. 0. 0. 0. 0. 0. 1. 1. 1. 1.]\n",
            "   [0. 0. 0. 0. 0. 0. 0. 1. 1. 1.]\n",
            "   [0. 0. 0. 0. 0. 0. 0. 1. 1. 1.]\n",
            "   [0. 0. 0. 0. 0. 0. 0. 1. 1. 1.]\n",
            "   [0. 0. 0. 0. 0. 0. 0. 1. 1. 1.]]]\n",
            "\n",
            "\n",
            " [[[0. 1. 1. 1. 1. 1. 1. 1. 1. 1.]\n",
            "   [0. 0. 1. 1. 1. 1. 1. 1. 1. 1.]\n",
            "   [0. 0. 0. 1. 1. 1. 1. 1. 1. 1.]\n",
            "   [0. 0. 0. 0. 1. 1. 1. 1. 1. 1.]\n",
            "   [0. 0. 0. 0. 0. 1. 1. 1. 1. 1.]\n",
            "   [0. 0. 0. 0. 0. 0. 1. 1. 1. 1.]\n",
            "   [0. 0. 0. 0. 0. 0. 0. 1. 1. 1.]\n",
            "   [0. 0. 0. 0. 0. 0. 0. 0. 1. 1.]\n",
            "   [0. 0. 0. 0. 0. 0. 0. 0. 0. 1.]\n",
            "   [0. 0. 0. 0. 0. 0. 0. 0. 0. 0.]]]], shape=(2, 1, 10, 10), dtype=float32)\n"
          ],
          "name": "stdout"
        }
      ]
    },
    {
      "cell_type": "markdown",
      "metadata": {
        "id": "asAN1fmGgwy1"
      },
      "source": [
        "把中文（目標語言）的詞嵌入張量以及相關的遮罩"
      ]
    },
    {
      "cell_type": "code",
      "metadata": {
        "colab": {
          "base_uri": "https://localhost:8080/"
        },
        "id": "ro4BgfkfgxT-",
        "outputId": "be718cab-5b4f-40f1-fecf-a91de445731a"
      },
      "source": [
        "# 超參數\n",
        "d_model = 4\n",
        "num_heads = 2\n",
        "dff = 8\n",
        "dec_layer = DecoderLayer(d_model, num_heads, dff)\n",
        "\n",
        "# 來源、目標語言的序列都需要 padding mask\n",
        "inp_padding_mask = create_padding_mask(inp)\n",
        "tar_padding_mask = create_padding_mask(tar)\n",
        "\n",
        "# masked MHA 用的遮罩，把 padding 跟未來子詞都蓋住\n",
        "look_ahead_mask = create_look_ahead_mask(tar.shape[-1])\n",
        "combined_mask = tf.maximum(tar_padding_mask, look_ahead_mask)\n",
        "\n",
        "# 實際初始一個 decoder layer 並做 3 個 sub-layers 的計算\n",
        "dec_out, dec_self_attn_weights, dec_enc_attn_weights = dec_layer(\n",
        "    emb_tar, enc_out, False, combined_mask, inp_padding_mask)\n",
        "\n",
        "print(\"emb_tar:\", emb_tar)\n",
        "print(\"-\" * 20)\n",
        "print(\"enc_out:\", enc_out)\n",
        "print(\"-\" * 20)\n",
        "print(\"dec_out:\", dec_out)\n",
        "assert emb_tar.shape == dec_out.shape\n",
        "print(\"-\" * 20)\n",
        "print(\"dec_self_attn_weights.shape:\", dec_self_attn_weights.shape)\n",
        "print(\"dec_enc_attn_weights:\", dec_enc_attn_weights.shape)"
      ],
      "execution_count": 59,
      "outputs": [
        {
          "output_type": "stream",
          "text": [
            "emb_tar: tf.Tensor(\n",
            "[[[-0.02282319 -0.01055995  0.04843744  0.00783952]\n",
            "  [-0.01079856 -0.03693919  0.04829888 -0.01448965]\n",
            "  [ 0.04000619 -0.02590526 -0.02988156 -0.01879985]\n",
            "  [ 0.00214509  0.00248455  0.02427474  0.00176178]\n",
            "  [-0.01569381 -0.03003497 -0.03855526 -0.02174056]\n",
            "  [ 0.0400285  -0.0332581  -0.0009184   0.03477527]\n",
            "  [ 0.02867664  0.01880774  0.03228236 -0.01565862]\n",
            "  [-0.02838035  0.01158942 -0.02495556 -0.02071409]\n",
            "  [-0.02838035  0.01158942 -0.02495556 -0.02071409]\n",
            "  [-0.02838035  0.01158942 -0.02495556 -0.02071409]]\n",
            "\n",
            " [[-0.02282319 -0.01055995  0.04843744  0.00783952]\n",
            "  [ 0.01627392  0.03977975 -0.00313966 -0.00550129]\n",
            "  [-0.0023957  -0.04361086 -0.02027133  0.04017763]\n",
            "  [ 0.02209036 -0.01153525  0.03878719 -0.04587317]\n",
            "  [-0.00930882 -0.01075454 -0.02002564  0.00003041]\n",
            "  [-0.02127123 -0.02358091 -0.03141426 -0.03459009]\n",
            "  [ 0.01321514 -0.00758296  0.03461019  0.0250724 ]\n",
            "  [-0.03315058 -0.03677864  0.02746859  0.02740859]\n",
            "  [ 0.0400285  -0.0332581  -0.0009184   0.03477527]\n",
            "  [ 0.02867664  0.01880774  0.03228236 -0.01565862]]], shape=(2, 10, 4), dtype=float32)\n",
            "--------------------\n",
            "enc_out: tf.Tensor(\n",
            "[[[-0.7180352   1.4323909  -1.1244874   0.4101316 ]\n",
            "  [-0.3731438   1.4403491  -1.3135681   0.24636279]\n",
            "  [ 0.42396766  1.0011508  -1.6618913   0.23677291]\n",
            "  [-1.0246521   0.63965714 -0.91809016  1.3030851 ]\n",
            "  [-0.8036809   1.462118   -1.0361613   0.37772405]\n",
            "  [-0.7380138   0.2602049  -1.0404452   1.518254  ]\n",
            "  [-0.4572801   1.7195784  -0.49469924 -0.7675989 ]\n",
            "  [-0.4572801   1.7195784  -0.49469924 -0.7675989 ]]\n",
            "\n",
            " [[-0.3841815   1.314565   -1.384842    0.45445853]\n",
            "  [-0.9826494   1.3677015  -0.93065137  0.5455992 ]\n",
            "  [ 0.84805155 -1.64579     0.04250942  0.75522894]\n",
            "  [-0.16514704  1.202444   -1.5158596   0.4785626 ]\n",
            "  [-0.11437728  1.2537354  -1.5093584   0.37000015]\n",
            "  [-1.0233918   1.2666937  -0.9336101   0.6903083 ]\n",
            "  [-0.24762936  1.2683611  -1.4614152   0.44068357]\n",
            "  [-0.31614232 -0.19741783 -1.1087236   1.6222838 ]]], shape=(2, 8, 4), dtype=float32)\n",
            "--------------------\n",
            "dec_out: tf.Tensor(\n",
            "[[[-0.15468149 -1.4401052   0.23592404  1.3588626 ]\n",
            "  [ 0.18191686 -1.6053661   0.2777895   1.1456597 ]\n",
            "  [ 1.0337924  -1.1138166  -0.87854123  0.9585655 ]\n",
            "  [-0.06924228 -1.5451245   0.41686058  1.1975061 ]\n",
            "  [ 0.47666183 -1.2050942  -0.6494977   1.37793   ]\n",
            "  [ 0.5692551  -1.3557149  -0.481048    1.2675079 ]\n",
            "  [ 1.154363   -1.5695854   0.45013925 -0.03491692]\n",
            "  [-1.3528588   0.8235083  -0.55736387  1.0867143 ]\n",
            "  [-1.3528588   0.8235083  -0.55736387  1.0867143 ]\n",
            "  [-1.3528588   0.8235083  -0.55736387  1.0867143 ]]\n",
            "\n",
            " [[-0.13779014 -1.4576614   0.25758594  1.3378656 ]\n",
            "  [ 0.40474126  1.0368556  -1.6487025   0.20710556]\n",
            "  [ 0.35108683 -1.1377896  -0.67265034  1.4593532 ]\n",
            "  [ 1.2036539  -1.5574309   0.35443383 -0.00065676]\n",
            "  [ 0.15395069 -0.83469176 -0.89410937  1.5748506 ]\n",
            "  [ 1.600109   -0.93576324 -0.746491    0.08214529]\n",
            "  [ 0.1485244  -1.577742    0.23121579  1.1980016 ]\n",
            "  [-0.28229162 -1.3571655   0.21371672  1.4257404 ]\n",
            "  [ 0.8149925  -1.3818109  -0.51212263  1.0789412 ]\n",
            "  [ 1.5322697  -1.155893    0.161975   -0.5383519 ]]], shape=(2, 10, 4), dtype=float32)\n",
            "--------------------\n",
            "dec_self_attn_weights.shape: (2, 2, 10, 10)\n",
            "dec_enc_attn_weights: (2, 2, 10, 8)\n"
          ],
          "name": "stdout"
        }
      ]
    },
    {
      "cell_type": "markdown",
      "metadata": {
        "id": "w6RQsa1Xg7bw"
      },
      "source": [
        "# Positional encoding：神奇數字"
      ]
    },
    {
      "cell_type": "code",
      "metadata": {
        "colab": {
          "base_uri": "https://localhost:8080/"
        },
        "id": "Lt0QnaXmg85h",
        "outputId": "0af4a880-ba39-4168-f20d-0b94f2245ce3"
      },
      "source": [
        "# 以下直接參考 TensorFlow 官方 tutorial \n",
        "def get_angles(pos, i, d_model):\n",
        "  angle_rates = 1 / np.power(10000, (2 * (i//2)) / np.float32(d_model))\n",
        "  return pos * angle_rates\n",
        "\n",
        "def positional_encoding(position, d_model):\n",
        "  angle_rads = get_angles(np.arange(position)[:, np.newaxis],\n",
        "                          np.arange(d_model)[np.newaxis, :],\n",
        "                          d_model)\n",
        "  \n",
        "  # apply sin to even indices in the array; 2i\n",
        "  sines = np.sin(angle_rads[:, 0::2])\n",
        "  \n",
        "  # apply cos to odd indices in the array; 2i+1\n",
        "  cosines = np.cos(angle_rads[:, 1::2])\n",
        "  \n",
        "  pos_encoding = np.concatenate([sines, cosines], axis=-1)\n",
        "  \n",
        "  pos_encoding = pos_encoding[np.newaxis, ...]\n",
        "    \n",
        "  return tf.cast(pos_encoding, dtype=tf.float32)\n",
        "\n",
        "\n",
        "seq_len = 50\n",
        "d_model = 512\n",
        "\n",
        "pos_encoding = positional_encoding(seq_len, d_model)\n",
        "pos_encoding"
      ],
      "execution_count": 60,
      "outputs": [
        {
          "output_type": "execute_result",
          "data": {
            "text/plain": [
              "<tf.Tensor: shape=(1, 50, 512), dtype=float32, numpy=\n",
              "array([[[ 0.        ,  0.        ,  0.        , ...,  1.        ,\n",
              "          1.        ,  1.        ],\n",
              "        [ 0.84147096,  0.8218562 ,  0.8019618 , ...,  1.        ,\n",
              "          1.        ,  1.        ],\n",
              "        [ 0.9092974 ,  0.9364147 ,  0.95814437, ...,  1.        ,\n",
              "          1.        ,  1.        ],\n",
              "        ...,\n",
              "        [ 0.12357312,  0.97718984, -0.24295525, ...,  0.9999863 ,\n",
              "          0.99998724,  0.99998814],\n",
              "        [-0.76825464,  0.7312359 ,  0.63279754, ...,  0.9999857 ,\n",
              "          0.9999867 ,  0.9999876 ],\n",
              "        [-0.95375264, -0.14402692,  0.99899054, ...,  0.9999851 ,\n",
              "          0.9999861 ,  0.9999871 ]]], dtype=float32)>"
            ]
          },
          "metadata": {
            "tags": []
          },
          "execution_count": 60
        }
      ]
    },
    {
      "cell_type": "code",
      "metadata": {
        "colab": {
          "base_uri": "https://localhost:8080/",
          "height": 0
        },
        "id": "OLMeuDndhCJ5",
        "outputId": "fa5c2aa1-7fe2-41a7-8eef-2c4e72fe8083"
      },
      "source": [
        "plt.pcolormesh(pos_encoding[0], cmap='RdBu')\n",
        "plt.xlabel('d_model')\n",
        "plt.xlim((0, 512))\n",
        "plt.ylabel('Position')\n",
        "plt.colorbar()\n",
        "plt.show()"
      ],
      "execution_count": 61,
      "outputs": [
        {
          "output_type": "display_data",
          "data": {
            "image/png": "[encoded data removed]",
            "text/plain": [
              "<Figure size 432x288 with 2 Axes>"
            ]
          },
          "metadata": {
            "tags": [],
            "needs_background": "light"
          }
        }
      ]
    },
    {
      "cell_type": "markdown",
      "metadata": {
        "id": "tBgWwJ3-hP6N"
      },
      "source": [
        "# Encoder"
      ]
    },
    {
      "cell_type": "code",
      "metadata": {
        "id": "q3dgAuAVhSlv"
      },
      "source": [
        "class Encoder(tf.keras.layers.Layer):\n",
        "  # Encoder 的初始參數除了本來就要給 EncoderLayer 的參數還多了：\n",
        "  # - num_layers: 決定要有幾個 EncoderLayers, 前面影片中的 `N`\n",
        "  # - input_vocab_size: 用來把索引轉成詞嵌入向量\n",
        "  def __init__(self, num_layers, d_model, num_heads, dff, input_vocab_size, \n",
        "               rate=0.1):\n",
        "    super(Encoder, self).__init__()\n",
        "\n",
        "    self.d_model = d_model\n",
        "    \n",
        "    self.embedding = tf.keras.layers.Embedding(input_vocab_size, d_model)\n",
        "    self.pos_encoding = positional_encoding(input_vocab_size, self.d_model)\n",
        "    \n",
        "    # 建立 `num_layers` 個 EncoderLayers\n",
        "    self.enc_layers = [EncoderLayer(d_model, num_heads, dff, rate) \n",
        "                       for _ in range(num_layers)]\n",
        "\n",
        "    self.dropout = tf.keras.layers.Dropout(rate)\n",
        "        \n",
        "  def call(self, x, training, mask):\n",
        "    # 輸入的 x.shape == (batch_size, input_seq_len)\n",
        "    # 以下各 layer 的輸出皆為 (batch_size, input_seq_len, d_model)\n",
        "    input_seq_len = tf.shape(x)[1]\n",
        "    \n",
        "    # 將 2 維的索引序列轉成 3 維的詞嵌入張量，並依照論文乘上 sqrt(d_model)\n",
        "    # 再加上對應長度的位置編碼\n",
        "    x = self.embedding(x)\n",
        "    x *= tf.math.sqrt(tf.cast(self.d_model, tf.float32))\n",
        "    x += self.pos_encoding[:, :input_seq_len, :]\n",
        "\n",
        "    # 對 embedding 跟位置編碼的總合做 regularization\n",
        "    # 這在 Decoder 也會做\n",
        "    x = self.dropout(x, training=training)\n",
        "    \n",
        "    # 通過 N 個 EncoderLayer 做編碼\n",
        "    for i, enc_layer in enumerate(self.enc_layers):\n",
        "      x = enc_layer(x, training, mask)\n",
        "      # 以下只是用來 demo EncoderLayer outputs\n",
        "      #print('-' * 20)\n",
        "      #print(f\"EncoderLayer {i + 1}'s output:\", x)\n",
        "      \n",
        "    \n",
        "    return x "
      ],
      "execution_count": 62,
      "outputs": []
    },
    {
      "cell_type": "code",
      "metadata": {
        "colab": {
          "base_uri": "https://localhost:8080/"
        },
        "id": "KvETaQp0iXDQ",
        "outputId": "1a6ddaee-0b25-4c0b-fdad-048c50f54f8f"
      },
      "source": [
        "# 超參數\n",
        "num_layers = 2 # 2 層的 Encoder\n",
        "d_model = 4\n",
        "num_heads = 2\n",
        "dff = 8\n",
        "input_vocab_size = subword_encoder_en.vocab_size + 2 # 記得加上 <start>, <end>\n",
        "\n",
        "# 初始化一個 Encoder\n",
        "encoder = Encoder(num_layers, d_model, num_heads, dff, input_vocab_size)\n",
        "\n",
        "# 將 2 維的索引序列丟入 Encoder 做編碼\n",
        "enc_out = encoder(inp, training=False, mask=None)\n",
        "print(\"inp:\", inp)\n",
        "print(\"-\" * 20)\n",
        "print(\"enc_out:\", enc_out)"
      ],
      "execution_count": 63,
      "outputs": [
        {
          "output_type": "stream",
          "text": [
            "inp: tf.Tensor(\n",
            "[[8113  103    9 1066 7903 8114    0    0]\n",
            " [8113   16 4111 6735   12 2750 7903 8114]], shape=(2, 8), dtype=int64)\n",
            "--------------------\n",
            "enc_out: tf.Tensor(\n",
            "[[[-0.7849332  -0.59196836 -0.33270502  1.7096066 ]\n",
            "  [-0.5070656  -0.5110134  -0.708232    1.7263108 ]\n",
            "  [-0.39270163 -0.03102632 -1.1583622   1.58209   ]\n",
            "  [-0.5561628   0.3805028  -1.2407898   1.4164499 ]\n",
            "  [-0.9043199   0.1938105  -0.84728885  1.5577983 ]\n",
            "  [-0.9732156  -0.22992775 -0.46524623  1.6683894 ]\n",
            "  [-0.84681964 -0.54344726 -0.31013626  1.7004032 ]\n",
            "  [-0.6243278  -0.56790483 -0.5390009   1.7312335 ]]\n",
            "\n",
            " [[-0.77423763 -0.6076473  -0.3280061   1.7098908 ]\n",
            "  [-0.47978234 -0.56156075 -0.6860291   1.727372  ]\n",
            "  [-0.30068332 -0.07366967 -1.1973958   1.5717487 ]\n",
            "  [-0.5147843   0.2787247  -1.229085    1.4651445 ]\n",
            "  [-0.89634484  0.26754576 -0.8954111   1.5242101 ]\n",
            "  [-0.97553635 -0.22618678 -0.46569663  1.6674198 ]\n",
            "  [-0.8760045  -0.54483986 -0.27099538  1.6918397 ]\n",
            "  [-0.60130465 -0.5993665  -0.53067714  1.7313485 ]]], shape=(2, 8, 4), dtype=float32)\n"
          ],
          "name": "stdout"
        }
      ]
    },
    {
      "cell_type": "markdown",
      "metadata": {
        "id": "F9KmTsvLiekt"
      },
      "source": [
        "# Decoder"
      ]
    },
    {
      "cell_type": "code",
      "metadata": {
        "id": "SQBf2lQqiflw"
      },
      "source": [
        "class Decoder(tf.keras.layers.Layer):\n",
        "  # 初始參數跟 Encoder 只差在用 `target_vocab_size` 而非 `inp_vocab_size`\n",
        "  def __init__(self, num_layers, d_model, num_heads, dff, target_vocab_size, \n",
        "               rate=0.1):\n",
        "    super(Decoder, self).__init__()\n",
        "\n",
        "    self.d_model = d_model\n",
        "    \n",
        "    # 為中文（目標語言）建立詞嵌入層\n",
        "    self.embedding = tf.keras.layers.Embedding(target_vocab_size, d_model)\n",
        "    self.pos_encoding = positional_encoding(target_vocab_size, self.d_model)\n",
        "    \n",
        "    self.dec_layers = [DecoderLayer(d_model, num_heads, dff, rate) \n",
        "                       for _ in range(num_layers)]\n",
        "    self.dropout = tf.keras.layers.Dropout(rate)\n",
        "  \n",
        "  # 呼叫時的參數跟 DecoderLayer 一模一樣\n",
        "  def call(self, x, enc_output, training, \n",
        "           combined_mask, inp_padding_mask):\n",
        "    \n",
        "    tar_seq_len = tf.shape(x)[1]\n",
        "    attention_weights = {}  # 用來存放每個 Decoder layer 的注意權重\n",
        "    \n",
        "    # 這邊跟 Encoder 做的事情完全一樣\n",
        "    x = self.embedding(x)  # (batch_size, tar_seq_len, d_model)\n",
        "    x *= tf.math.sqrt(tf.cast(self.d_model, tf.float32))\n",
        "    x += self.pos_encoding[:, :tar_seq_len, :]\n",
        "    x = self.dropout(x, training=training)\n",
        "\n",
        "    \n",
        "    for i, dec_layer in enumerate(self.dec_layers):\n",
        "      x, block1, block2 = dec_layer(x, enc_output, training,\n",
        "                                    combined_mask, inp_padding_mask)\n",
        "      \n",
        "      # 將從每個 Decoder layer 取得的注意權重全部存下來回傳，方便我們觀察\n",
        "      attention_weights['decoder_layer{}_block1'.format(i + 1)] = block1\n",
        "      attention_weights['decoder_layer{}_block2'.format(i + 1)] = block2\n",
        "    \n",
        "    # x.shape == (batch_size, tar_seq_len, d_model)\n",
        "    return x, attention_weights"
      ],
      "execution_count": 68,
      "outputs": []
    },
    {
      "cell_type": "code",
      "metadata": {
        "colab": {
          "base_uri": "https://localhost:8080/"
        },
        "id": "ZKl6RVLEitwJ",
        "outputId": "ed17e5e5-1c5c-4fe2-e913-2347f178aea2"
      },
      "source": [
        "# 超參數\n",
        "num_layers = 2 # 2 層的 Decoder\n",
        "d_model = 4\n",
        "num_heads = 2\n",
        "dff = 8\n",
        "target_vocab_size = subword_encoder_zh.vocab_size + 2 # 記得加上 <start>, <end>\n",
        "\n",
        "# 遮罩\n",
        "inp_padding_mask = create_padding_mask(inp)\n",
        "tar_padding_mask = create_padding_mask(tar)\n",
        "look_ahead_mask = create_look_ahead_mask(tar.shape[1])\n",
        "combined_mask = tf.math.maximum(tar_padding_mask, look_ahead_mask)\n",
        "\n",
        "# 初始化一個 Decoder\n",
        "decoder = Decoder(num_layers, d_model, num_heads, dff, target_vocab_size)\n",
        "\n",
        "# 將 2 維的索引序列以及遮罩丟入 Decoder\n",
        "print(\"tar:\", tar)\n",
        "print(\"-\" * 20)\n",
        "print(\"combined_mask:\", combined_mask)\n",
        "print(\"-\" * 20)\n",
        "print(\"enc_out:\", enc_out)\n",
        "print(\"-\" * 20)\n",
        "print(\"inp_padding_mask:\", inp_padding_mask)\n",
        "print(\"-\" * 20)\n",
        "dec_out, attn = decoder(tar, enc_out, training=False, \n",
        "                        combined_mask=combined_mask,\n",
        "                        inp_padding_mask=inp_padding_mask)\n",
        "print(\"dec_out:\", dec_out)\n",
        "print(\"-\" * 20)\n",
        "for block_name, attn_weights in attn.items():\n",
        "  print(f\"{block_name}.shape: {attn_weights.shape}\")"
      ],
      "execution_count": 69,
      "outputs": [
        {
          "output_type": "stream",
          "text": [
            "tar: tf.Tensor(\n",
            "[[4205   10  241   86   27    3 4206    0    0    0]\n",
            " [4205  165  489  398  191   14    7  560    3 4206]], shape=(2, 10), dtype=int64)\n",
            "--------------------\n",
            "combined_mask: tf.Tensor(\n",
            "[[[[0. 1. 1. 1. 1. 1. 1. 1. 1. 1.]\n",
            "   [0. 0. 1. 1. 1. 1. 1. 1. 1. 1.]\n",
            "   [0. 0. 0. 1. 1. 1. 1. 1. 1. 1.]\n",
            "   [0. 0. 0. 0. 1. 1. 1. 1. 1. 1.]\n",
            "   [0. 0. 0. 0. 0. 1. 1. 1. 1. 1.]\n",
            "   [0. 0. 0. 0. 0. 0. 1. 1. 1. 1.]\n",
            "   [0. 0. 0. 0. 0. 0. 0. 1. 1. 1.]\n",
            "   [0. 0. 0. 0. 0. 0. 0. 1. 1. 1.]\n",
            "   [0. 0. 0. 0. 0. 0. 0. 1. 1. 1.]\n",
            "   [0. 0. 0. 0. 0. 0. 0. 1. 1. 1.]]]\n",
            "\n",
            "\n",
            " [[[0. 1. 1. 1. 1. 1. 1. 1. 1. 1.]\n",
            "   [0. 0. 1. 1. 1. 1. 1. 1. 1. 1.]\n",
            "   [0. 0. 0. 1. 1. 1. 1. 1. 1. 1.]\n",
            "   [0. 0. 0. 0. 1. 1. 1. 1. 1. 1.]\n",
            "   [0. 0. 0. 0. 0. 1. 1. 1. 1. 1.]\n",
            "   [0. 0. 0. 0. 0. 0. 1. 1. 1. 1.]\n",
            "   [0. 0. 0. 0. 0. 0. 0. 1. 1. 1.]\n",
            "   [0. 0. 0. 0. 0. 0. 0. 0. 1. 1.]\n",
            "   [0. 0. 0. 0. 0. 0. 0. 0. 0. 1.]\n",
            "   [0. 0. 0. 0. 0. 0. 0. 0. 0. 0.]]]], shape=(2, 1, 10, 10), dtype=float32)\n",
            "--------------------\n",
            "enc_out: tf.Tensor(\n",
            "[[[-0.7849332  -0.59196836 -0.33270502  1.7096066 ]\n",
            "  [-0.5070656  -0.5110134  -0.708232    1.7263108 ]\n",
            "  [-0.39270163 -0.03102632 -1.1583622   1.58209   ]\n",
            "  [-0.5561628   0.3805028  -1.2407898   1.4164499 ]\n",
            "  [-0.9043199   0.1938105  -0.84728885  1.5577983 ]\n",
            "  [-0.9732156  -0.22992775 -0.46524623  1.6683894 ]\n",
            "  [-0.84681964 -0.54344726 -0.31013626  1.7004032 ]\n",
            "  [-0.6243278  -0.56790483 -0.5390009   1.7312335 ]]\n",
            "\n",
            " [[-0.77423763 -0.6076473  -0.3280061   1.7098908 ]\n",
            "  [-0.47978234 -0.56156075 -0.6860291   1.727372  ]\n",
            "  [-0.30068332 -0.07366967 -1.1973958   1.5717487 ]\n",
            "  [-0.5147843   0.2787247  -1.229085    1.4651445 ]\n",
            "  [-0.89634484  0.26754576 -0.8954111   1.5242101 ]\n",
            "  [-0.97553635 -0.22618678 -0.46569663  1.6674198 ]\n",
            "  [-0.8760045  -0.54483986 -0.27099538  1.6918397 ]\n",
            "  [-0.60130465 -0.5993665  -0.53067714  1.7313485 ]]], shape=(2, 8, 4), dtype=float32)\n",
            "--------------------\n",
            "inp_padding_mask: tf.Tensor(\n",
            "[[[[0. 0. 0. 0. 0. 0. 1. 1.]]]\n",
            "\n",
            "\n",
            " [[[0. 0. 0. 0. 0. 0. 0. 0.]]]], shape=(2, 1, 1, 8), dtype=float32)\n",
            "--------------------\n",
            "dec_out: tf.Tensor(\n",
            "[[[-1.4710399  -0.09336232  1.3315849   0.23281732]\n",
            "  [-1.5518811  -0.20778702  0.8914777   0.8681904 ]\n",
            "  [-1.4032612  -0.22656156  0.24422547  1.3855972 ]\n",
            "  [-1.3970022  -0.13661987  0.11346636  1.4201558 ]\n",
            "  [-1.5881845  -0.039864    0.539428    1.0886204 ]\n",
            "  [-1.6182089  -0.03276633  0.9189316   0.7320435 ]\n",
            "  [-1.5855601  -0.09119602  1.0280145   0.6487416 ]\n",
            "  [-1.555547   -0.19572434  0.81049395  0.94077754]\n",
            "  [-1.2315458  -0.30732068 -0.00670817  1.5455748 ]\n",
            "  [-1.2671471  -0.21472292 -0.04971692  1.5315868 ]]\n",
            "\n",
            " [[-1.4970126  -0.08266662  1.2920461   0.28763336]\n",
            "  [-1.5556847  -0.19927658  0.8678162   0.88714504]\n",
            "  [-1.4313058  -0.2116692   0.29381606  1.3491589 ]\n",
            "  [-1.4506755  -0.13231653  0.23243521  1.3505569 ]\n",
            "  [-1.5801173  -0.05520683  0.53214777  1.1031764 ]\n",
            "  [-1.6223795  -0.02206288  0.90968406  0.73475826]\n",
            "  [-1.5997616  -0.04618233  1.0279856   0.6179583 ]\n",
            "  [-1.5869963  -0.12497061  0.87024856  0.84171844]\n",
            "  [-1.3835193  -0.23209013  0.20493288  1.4106766 ]\n",
            "  [-1.2691642  -0.22470623 -0.03501846  1.5288888 ]]], shape=(2, 10, 4), dtype=float32)\n",
            "--------------------\n",
            "decoder_layer1_block1.shape: (2, 2, 10, 10)\n",
            "decoder_layer1_block2.shape: (2, 2, 10, 8)\n",
            "decoder_layer2_block1.shape: (2, 2, 10, 10)\n",
            "decoder_layer2_block2.shape: (2, 2, 10, 8)\n"
          ],
          "name": "stdout"
        }
      ]
    },
    {
      "cell_type": "markdown",
      "metadata": {
        "id": "X4WPfQati2j-"
      },
      "source": [
        "# Transformer"
      ]
    },
    {
      "cell_type": "code",
      "metadata": {
        "id": "3VJ7uUxhi3g7"
      },
      "source": [
        "# Transformer 之上已經沒有其他 layers 了，我們使用 tf.keras.Model 建立一個模型\n",
        "class Transformer(tf.keras.Model):\n",
        "  # 初始參數包含 Encoder & Decoder 都需要超參數以及中英字典數目\n",
        "  def __init__(self, num_layers, d_model, num_heads, dff, input_vocab_size, \n",
        "               target_vocab_size, rate=0.1):\n",
        "    super(Transformer, self).__init__()\n",
        "\n",
        "    self.encoder = Encoder(num_layers, d_model, num_heads, dff, \n",
        "                           input_vocab_size, rate)\n",
        "\n",
        "    self.decoder = Decoder(num_layers, d_model, num_heads, dff, \n",
        "                           target_vocab_size, rate)\n",
        "    # 這個 FFN 輸出跟中文字典一樣大的 logits 數，等通過 softmax 就代表每個中文字的出現機率\n",
        "    self.final_layer = tf.keras.layers.Dense(target_vocab_size)\n",
        "  \n",
        "  # enc_padding_mask 跟 dec_padding_mask 都是英文序列的 padding mask，\n",
        "  # 只是一個給 Encoder layer 的 MHA 用，一個是給 Decoder layer 的 MHA 2 使用\n",
        "  def call(self, inp, tar, training, enc_padding_mask, \n",
        "           combined_mask, dec_padding_mask):\n",
        "\n",
        "    enc_output = self.encoder(inp, training, enc_padding_mask)  # (batch_size, inp_seq_len, d_model)\n",
        "    \n",
        "    # dec_output.shape == (batch_size, tar_seq_len, d_model)\n",
        "    dec_output, attention_weights = self.decoder(\n",
        "        tar, enc_output, training, combined_mask, dec_padding_mask)\n",
        "    \n",
        "    # 將 Decoder 輸出通過最後一個 linear layer\n",
        "    final_output = self.final_layer(dec_output)  # (batch_size, tar_seq_len, target_vocab_size)\n",
        "    \n",
        "    return final_output, attention_weights"
      ],
      "execution_count": 70,
      "outputs": []
    },
    {
      "cell_type": "code",
      "metadata": {
        "colab": {
          "base_uri": "https://localhost:8080/"
        },
        "id": "FM7rW-JkmPt4",
        "outputId": "76617580-d294-4407-fbc8-a585be5f01ca"
      },
      "source": [
        "# 超參數\n",
        "num_layers = 1\n",
        "d_model = 4\n",
        "num_heads = 2\n",
        "dff = 8\n",
        "\n",
        "# + 2 是為了 <start> & <end> token\n",
        "input_vocab_size = subword_encoder_en.vocab_size + 2\n",
        "output_vocab_size = subword_encoder_zh.vocab_size + 2\n",
        "\n",
        "# 重點中的重點。訓練時用前一個字來預測下一個中文字\n",
        "tar_inp = tar[:, :-1]\n",
        "tar_real = tar[:, 1:]\n",
        "\n",
        "# 來源 / 目標語言用的遮罩。注意 `comined_mask` 已經將目標語言的兩種遮罩合而為一\n",
        "inp_padding_mask = create_padding_mask(inp)\n",
        "tar_padding_mask = create_padding_mask(tar_inp)\n",
        "look_ahead_mask = create_look_ahead_mask(tar_inp.shape[1])\n",
        "combined_mask = tf.math.maximum(tar_padding_mask, look_ahead_mask)\n",
        "\n",
        "# 初始化我們的第一個 transformer\n",
        "transformer = Transformer(num_layers, d_model, num_heads, dff, \n",
        "                          input_vocab_size, output_vocab_size)\n",
        "\n",
        "# 將英文、中文序列丟入取得 Transformer 預測下個中文字的結果\n",
        "predictions, attn_weights = transformer(inp, tar_inp, False, inp_padding_mask, \n",
        "                                        combined_mask, inp_padding_mask)\n",
        "\n",
        "print(\"tar:\", tar)\n",
        "print(\"-\" * 20)\n",
        "print(\"tar_inp:\", tar_inp)\n",
        "print(\"-\" * 20)\n",
        "print(\"tar_real:\", tar_real)\n",
        "print(\"-\" * 20)\n",
        "print(\"predictions:\", predictions)"
      ],
      "execution_count": 71,
      "outputs": [
        {
          "output_type": "stream",
          "text": [
            "tar: tf.Tensor(\n",
            "[[4205   10  241   86   27    3 4206    0    0    0]\n",
            " [4205  165  489  398  191   14    7  560    3 4206]], shape=(2, 10), dtype=int64)\n",
            "--------------------\n",
            "tar_inp: tf.Tensor(\n",
            "[[4205   10  241   86   27    3 4206    0    0]\n",
            " [4205  165  489  398  191   14    7  560    3]], shape=(2, 9), dtype=int64)\n",
            "--------------------\n",
            "tar_real: tf.Tensor(\n",
            "[[  10  241   86   27    3 4206    0    0    0]\n",
            " [ 165  489  398  191   14    7  560    3 4206]], shape=(2, 9), dtype=int64)\n",
            "--------------------\n",
            "predictions: tf.Tensor(\n",
            "[[[-0.06636418  0.01534437 -0.01026297 ... -0.00765067 -0.01316521\n",
            "   -0.0486107 ]\n",
            "  [-0.05517782 -0.04726118 -0.00478664 ... -0.0701075  -0.01784743\n",
            "   -0.04254168]\n",
            "  [-0.04518513 -0.04418243  0.00063513 ... -0.05220697 -0.00805603\n",
            "   -0.01898798]\n",
            "  ...\n",
            "  [-0.0576949  -0.03209896 -0.00872019 ... -0.06180546 -0.02116563\n",
            "   -0.05390083]\n",
            "  [-0.03256461 -0.06600823 -0.00285971 ... -0.08817575 -0.01903542\n",
            "   -0.03564928]\n",
            "  [-0.04001433 -0.05209294  0.00017805 ... -0.06312844 -0.01066233\n",
            "   -0.02182026]]\n",
            "\n",
            " [[-0.06558706  0.01432966 -0.01030802 ... -0.00901675 -0.01347798\n",
            "   -0.04889873]\n",
            "  [-0.0444651  -0.05682816 -0.0032906  ... -0.07798138 -0.01756691\n",
            "   -0.0372429 ]\n",
            "  [-0.04982402 -0.0387443   0.00057521 ... -0.04567146 -0.00688727\n",
            "   -0.01868984]\n",
            "  ...\n",
            "  [-0.05818987 -0.03094594 -0.00880449 ... -0.06061006 -0.02104698\n",
            "   -0.05400923]\n",
            "  [-0.03299585 -0.06594797 -0.0038907  ... -0.09079732 -0.02077533\n",
            "   -0.03964822]\n",
            "  [-0.04155712 -0.0525421  -0.00032265 ... -0.0649798  -0.0115942\n",
            "   -0.02416863]]], shape=(2, 9, 4207), dtype=float32)\n"
          ],
          "name": "stdout"
        }
      ]
    },
    {
      "cell_type": "markdown",
      "metadata": {
        "id": "fJpxrWx5mYRU"
      },
      "source": [
        "# 定義損失函數與指標"
      ]
    },
    {
      "cell_type": "code",
      "metadata": {
        "colab": {
          "base_uri": "https://localhost:8080/"
        },
        "id": "4nW-g3McmZZC",
        "outputId": "e6174c49-6ea7-485e-a454-272629195ac6"
      },
      "source": [
        "loss_object = tf.keras.losses.SparseCategoricalCrossentropy(\n",
        "    from_logits=True, reduction='none')\n",
        "\n",
        "# 假設我們要解的是一個 binary classifcation， 0 跟 1 個代表一個 label\n",
        "real = tf.constant([1, 1, 0], shape=(1, 3), dtype=tf.float32)\n",
        "pred = tf.constant([[0, 1], [0, 1], [0, 1]], dtype=tf.float32)\n",
        "loss_object(real, pred)"
      ],
      "execution_count": 72,
      "outputs": [
        {
          "output_type": "execute_result",
          "data": {
            "text/plain": [
              "<tf.Tensor: shape=(3,), dtype=float32, numpy=array([0.31326166, 0.31326166, 1.3132616 ], dtype=float32)>"
            ]
          },
          "metadata": {
            "tags": []
          },
          "execution_count": 72
        }
      ]
    },
    {
      "cell_type": "code",
      "metadata": {
        "colab": {
          "base_uri": "https://localhost:8080/"
        },
        "id": "e8nUT5xOmgaq",
        "outputId": "25341620-dff9-420e-c60d-d389bce8d704"
      },
      "source": [
        "print(\"predictions:\", predictions)\n",
        "print(\"-\" * 20)\n",
        "print(tf.reduce_sum(predictions, axis=-1))"
      ],
      "execution_count": 73,
      "outputs": [
        {
          "output_type": "stream",
          "text": [
            "predictions: tf.Tensor(\n",
            "[[[-0.06636418  0.01534437 -0.01026297 ... -0.00765067 -0.01316521\n",
            "   -0.0486107 ]\n",
            "  [-0.05517782 -0.04726118 -0.00478664 ... -0.0701075  -0.01784743\n",
            "   -0.04254168]\n",
            "  [-0.04518513 -0.04418243  0.00063513 ... -0.05220697 -0.00805603\n",
            "   -0.01898798]\n",
            "  ...\n",
            "  [-0.0576949  -0.03209896 -0.00872019 ... -0.06180546 -0.02116563\n",
            "   -0.05390083]\n",
            "  [-0.03256461 -0.06600823 -0.00285971 ... -0.08817575 -0.01903542\n",
            "   -0.03564928]\n",
            "  [-0.04001433 -0.05209294  0.00017805 ... -0.06312844 -0.01066233\n",
            "   -0.02182026]]\n",
            "\n",
            " [[-0.06558706  0.01432966 -0.01030802 ... -0.00901675 -0.01347798\n",
            "   -0.04889873]\n",
            "  [-0.0444651  -0.05682816 -0.0032906  ... -0.07798138 -0.01756691\n",
            "   -0.0372429 ]\n",
            "  [-0.04982402 -0.0387443   0.00057521 ... -0.04567146 -0.00688727\n",
            "   -0.01868984]\n",
            "  ...\n",
            "  [-0.05818987 -0.03094594 -0.00880449 ... -0.06061006 -0.02104698\n",
            "   -0.05400923]\n",
            "  [-0.03299585 -0.06594797 -0.0038907  ... -0.09079732 -0.02077533\n",
            "   -0.03964822]\n",
            "  [-0.04155712 -0.0525421  -0.00032265 ... -0.0649798  -0.0115942\n",
            "   -0.02416863]]], shape=(2, 9, 4207), dtype=float32)\n",
            "--------------------\n",
            "tf.Tensor(\n",
            "[[-0.3397593   3.5470557   4.220676    3.2510538   0.8691917   0.8517524\n",
            "   1.9996469   3.9716787   4.2911954 ]\n",
            " [-0.33235458  3.915921    4.1316943   3.183131    1.3667076   0.87901837\n",
            "   1.9439409   3.7502358   4.263053  ]], shape=(2, 9), dtype=float32)\n"
          ],
          "name": "stdout"
        }
      ]
    },
    {
      "cell_type": "code",
      "metadata": {
        "id": "V3hR73SNmnOu"
      },
      "source": [
        "def loss_function(real, pred):\n",
        "  # 這次的 mask 將序列中不等於 0 的位置視為 1，其餘為 0 \n",
        "  mask = tf.math.logical_not(tf.math.equal(real, 0))\n",
        "  # 照樣計算所有位置的 cross entropy 但不加總\n",
        "  loss_ = loss_object(real, pred)\n",
        "  mask = tf.cast(mask, dtype=loss_.dtype)\n",
        "  loss_ *= mask  # 只計算非 <pad> 位置的損失 \n",
        "  \n",
        "  return tf.reduce_mean(loss_)"
      ],
      "execution_count": 74,
      "outputs": []
    },
    {
      "cell_type": "code",
      "metadata": {
        "id": "Dfn4gBxamqQB"
      },
      "source": [
        "train_loss = tf.keras.metrics.Mean(name='train_loss')\n",
        "train_accuracy = tf.keras.metrics.SparseCategoricalAccuracy(\n",
        "    name='train_accuracy')"
      ],
      "execution_count": 75,
      "outputs": []
    },
    {
      "cell_type": "markdown",
      "metadata": {
        "id": "Rwl6K_IzmxjH"
      },
      "source": [
        "# 設置超參數"
      ]
    },
    {
      "cell_type": "code",
      "metadata": {
        "colab": {
          "base_uri": "https://localhost:8080/"
        },
        "id": "uWu8b1KWmylw",
        "outputId": "b1cd02a9-ac42-472a-bb95-4a899c6c65ac"
      },
      "source": [
        "num_layers = 4 \n",
        "d_model = 128\n",
        "dff = 512\n",
        "num_heads = 8\n",
        "\n",
        "input_vocab_size = subword_encoder_en.vocab_size + 2\n",
        "target_vocab_size = subword_encoder_zh.vocab_size + 2\n",
        "dropout_rate = 0.1  # 預設值\n",
        "\n",
        "print(\"input_vocab_size:\", input_vocab_size)\n",
        "print(\"target_vocab_size:\", target_vocab_size)"
      ],
      "execution_count": 76,
      "outputs": [
        {
          "output_type": "stream",
          "text": [
            "input_vocab_size: 8115\n",
            "target_vocab_size: 4207\n"
          ],
          "name": "stdout"
        }
      ]
    },
    {
      "cell_type": "markdown",
      "metadata": {
        "id": "ZdJfkF0Wm3e1"
      },
      "source": [
        "# 設置 Optimizer"
      ]
    },
    {
      "cell_type": "code",
      "metadata": {
        "id": "QVrklpDdm4YE"
      },
      "source": [
        "class CustomSchedule(tf.keras.optimizers.schedules.LearningRateSchedule):\n",
        "  # 論文預設 `warmup_steps` = 4000\n",
        "  def __init__(self, d_model, warmup_steps=4000):\n",
        "    super(CustomSchedule, self).__init__()\n",
        "    \n",
        "    self.d_model = d_model\n",
        "    self.d_model = tf.cast(self.d_model, tf.float32)\n",
        "\n",
        "    self.warmup_steps = warmup_steps\n",
        "    \n",
        "  def __call__(self, step):\n",
        "    arg1 = tf.math.rsqrt(step)\n",
        "    arg2 = step * (self.warmup_steps ** -1.5)\n",
        "    \n",
        "    return tf.math.rsqrt(self.d_model) * tf.math.minimum(arg1, arg2)\n",
        "  \n",
        "# 將客製化 learning rate schdeule 丟入 Adam opt.\n",
        "# Adam opt. 的參數都跟論文相同\n",
        "learning_rate = CustomSchedule(d_model)\n",
        "optimizer = tf.keras.optimizers.Adam(learning_rate, beta_1=0.9, beta_2=0.98, \n",
        "                                     epsilon=1e-9)"
      ],
      "execution_count": 77,
      "outputs": []
    },
    {
      "cell_type": "code",
      "metadata": {
        "colab": {
          "base_uri": "https://localhost:8080/",
          "height": 0
        },
        "id": "4D7yi3Y3m9f_",
        "outputId": "ad77d757-d8df-46bb-b685-b717d43c18aa"
      },
      "source": [
        "d_models = [128, 256, 512]\n",
        "warmup_steps = [1000 * i for i in range(1, 4)]\n",
        "\n",
        "schedules = []\n",
        "labels = []\n",
        "colors = [\"blue\", \"red\", \"black\"]\n",
        "for d in d_models:\n",
        "  schedules += [CustomSchedule(d, s) for s in warmup_steps]\n",
        "  labels += [f\"d_model: {d}, warm: {s}\" for s in warmup_steps]\n",
        "\n",
        "for i, (schedule, label) in enumerate(zip(schedules, labels)):\n",
        "  plt.plot(schedule(tf.range(10000, dtype=tf.float32)), \n",
        "           label=label, color=colors[i // 3])\n",
        "\n",
        "plt.legend()\n",
        "\n",
        "plt.ylabel(\"Learning Rate\")\n",
        "plt.xlabel(\"Train Step\")"
      ],
      "execution_count": 78,
      "outputs": [
        {
          "output_type": "execute_result",
          "data": {
            "text/plain": [
              "Text(0.5, 0, 'Train Step')"
            ]
          },
          "metadata": {
            "tags": []
          },
          "execution_count": 78
        },
        {
          "output_type": "display_data",
          "data": {
            "image/png": "[encoded data removed]",
            "text/plain": [
              "<Figure size 432x288 with 1 Axes>"
            ]
          },
          "metadata": {
            "tags": [],
            "needs_background": "light"
          }
        }
      ]
    },
    {
      "cell_type": "markdown",
      "metadata": {
        "id": "keRXK6r9nIkz"
      },
      "source": [
        "# 實際訓練以及定時存檔"
      ]
    },
    {
      "cell_type": "code",
      "metadata": {
        "colab": {
          "base_uri": "https://localhost:8080/"
        },
        "id": "ptD9Rwd8nJoo",
        "outputId": "57752c36-9a4e-490c-c272-656ac1fc6577"
      },
      "source": [
        "transformer = Transformer(num_layers, d_model, num_heads, dff,\n",
        "                          input_vocab_size, target_vocab_size, dropout_rate)\n",
        "\n",
        "print(f\"\"\"這個 Transformer 有 {num_layers} 層 Encoder / Decoder layers\n",
        "d_model: {d_model}\n",
        "num_heads: {num_heads}\n",
        "dff: {dff}\n",
        "input_vocab_size: {input_vocab_size}\n",
        "target_vocab_size: {target_vocab_size}\n",
        "dropout_rate: {dropout_rate}\n",
        "\n",
        "\"\"\")"
      ],
      "execution_count": 81,
      "outputs": [
        {
          "output_type": "stream",
          "text": [
            "這個 Transformer 有 4 層 Encoder / Decoder layers\n",
            "d_model: 128\n",
            "num_heads: 8\n",
            "dff: 512\n",
            "input_vocab_size: 8115\n",
            "target_vocab_size: 4207\n",
            "dropout_rate: 0.1\n",
            "\n",
            "\n"
          ],
          "name": "stdout"
        }
      ]
    },
    {
      "cell_type": "code",
      "metadata": {
        "colab": {
          "base_uri": "https://localhost:8080/"
        },
        "id": "lbI-7wEMnQDo",
        "outputId": "feca49dc-d77e-4d30-d571-789d293b4148"
      },
      "source": [
        "train_perc = 20\n",
        "val_prec = 1\n",
        "drop_prec = 100 - train_perc - val_prec\n",
        "\n",
        "# 方便比較不同實驗/ 不同超參數設定的結果\n",
        "run_id = f\"{num_layers}layers_{d_model}d_{num_heads}heads_{dff}dff_{train_perc}train_perc\"\n",
        "checkpoint_path = os.path.join(checkpoint_path, run_id)\n",
        "log_dir = os.path.join(log_dir, run_id)\n",
        "\n",
        "# tf.train.Checkpoint 可以幫我們把想要存下來的東西整合起來，方便儲存與讀取\n",
        "# 一般來說你會想存下模型以及 optimizer 的狀態\n",
        "ckpt = tf.train.Checkpoint(transformer=transformer,\n",
        "                           optimizer=optimizer)\n",
        "\n",
        "# ckpt_manager 會去 checkpoint_path 看有沒有符合 ckpt 裡頭定義的東西\n",
        "# 存檔的時候只保留最近 5 次 checkpoints，其他自動刪除\n",
        "ckpt_manager = tf.train.CheckpointManager(ckpt, checkpoint_path, max_to_keep=5)\n",
        "\n",
        "# 如果在 checkpoint 路徑上有發現檔案就讀進來\n",
        "if ckpt_manager.latest_checkpoint:\n",
        "  ckpt.restore(ckpt_manager.latest_checkpoint)\n",
        "  \n",
        "  # 用來確認之前訓練多少 epochs 了\n",
        "  last_epoch = int(ckpt_manager.latest_checkpoint.split(\"-\")[-1])\n",
        "  print(f'已讀取最新的 checkpoint，模型已訓練 {last_epoch} epochs。')\n",
        "else:\n",
        "  last_epoch = 0\n",
        "  print(\"沒找到 checkpoint，從頭訓練。\")"
      ],
      "execution_count": 83,
      "outputs": [
        {
          "output_type": "stream",
          "text": [
            "沒找到 checkpoint，從頭訓練。\n"
          ],
          "name": "stdout"
        }
      ]
    },
    {
      "cell_type": "markdown",
      "metadata": {
        "id": "eUVz44uFnZIS"
      },
      "source": [
        "## 產生所有的遮罩"
      ]
    },
    {
      "cell_type": "code",
      "metadata": {
        "id": "DBgIYm4anask"
      },
      "source": [
        "# 為 Transformer 的 Encoder / Decoder 準備遮罩\n",
        "def create_masks(inp, tar):\n",
        "  # 英文句子的 padding mask，要交給 Encoder layer 自注意力機制用的\n",
        "  enc_padding_mask = create_padding_mask(inp)\n",
        "  \n",
        "  # 同樣也是英文句子的 padding mask，但是是要交給 Decoder layer 的 MHA 2 \n",
        "  # 關注 Encoder 輸出序列用的\n",
        "  dec_padding_mask = create_padding_mask(inp)\n",
        "  \n",
        "  # Decoder layer 的 MHA1 在做自注意力機制用的\n",
        "  # `combined_mask` 是中文句子的 padding mask 跟 look ahead mask 的疊加\n",
        "  look_ahead_mask = create_look_ahead_mask(tf.shape(tar)[1])\n",
        "  dec_target_padding_mask = create_padding_mask(tar)\n",
        "  combined_mask = tf.maximum(dec_target_padding_mask, look_ahead_mask)\n",
        "  \n",
        "  return enc_padding_mask, combined_mask, dec_padding_mask"
      ],
      "execution_count": 84,
      "outputs": []
    },
    {
      "cell_type": "markdown",
      "metadata": {
        "id": "LzUvVmG8nlrB"
      },
      "source": [
        "# 定義 Transformer 在一次訓練步驟"
      ]
    },
    {
      "cell_type": "code",
      "metadata": {
        "id": "yCsl1v39nqwz"
      },
      "source": [
        "train_step_signature = [\n",
        "    tf.TensorSpec(shape=(None, None), dtype=tf.int64),\n",
        "    tf.TensorSpec(shape=(None, None), dtype=tf.int64),\n",
        "]\n",
        "\n",
        "@tf.function  # 讓 TensorFlow 幫我們將 eager code 優化並加快運算\n",
        "def train_step(inp, tar):\n",
        "  # 前面說過的，用去尾的原始序列去預測下一個字的序列\n",
        "  tar_inp = tar[:, :-1]\n",
        "  tar_real = tar[:, 1:]\n",
        "  \n",
        "  # 建立 3 個遮罩\n",
        "  enc_padding_mask, combined_mask, dec_padding_mask = create_masks(inp, tar_inp)\n",
        "  \n",
        "  # 紀錄 Transformer 的所有運算過程以方便之後做梯度下降\n",
        "  with tf.GradientTape() as tape:\n",
        "    # 注意是丟入 `tar_inp` 而非 `tar`。記得將 `training` 參數設定為 True\n",
        "    predictions, _ = transformer(inp, tar_inp, \n",
        "                                 True, \n",
        "                                 enc_padding_mask, \n",
        "                                 combined_mask, \n",
        "                                 dec_padding_mask)\n",
        "    # 跟影片中顯示的相同，計算左移一個字的序列跟模型預測分佈之間的差異，當作 loss\n",
        "    loss = loss_function(tar_real, predictions)\n",
        "\n",
        "  # 取出梯度並呼叫前面定義的 Adam optimizer 幫我們更新 Transformer 裡頭可訓練的參數\n",
        "  gradients = tape.gradient(loss, transformer.trainable_variables)    \n",
        "  optimizer.apply_gradients(zip(gradients, transformer.trainable_variables))\n",
        "  \n",
        "  # 將 loss 以及訓練 acc 記錄到 TensorBoard 上，非必要\n",
        "  train_loss(loss)\n",
        "  train_accuracy(tar_real, predictions)"
      ],
      "execution_count": 85,
      "outputs": []
    },
    {
      "cell_type": "code",
      "metadata": {
        "colab": {
          "base_uri": "https://localhost:8080/"
        },
        "id": "fMv7EEKtny5I",
        "outputId": "d250a8f3-88dd-44d9-f425-5598ce74d379"
      },
      "source": [
        "# 定義我們要看幾遍數據集\n",
        "EPOCHS = 30\n",
        "print(f\"此超參數組合的 Transformer 已經訓練 {last_epoch} epochs。\")\n",
        "print(f\"剩餘 epochs：{min(0, last_epoch - EPOCHS)}\")\n",
        "\n",
        "\n",
        "# 用來寫資訊到 TensorBoard，非必要但十分推薦\n",
        "summary_writer = tf.summary.create_file_writer(log_dir)\n",
        "\n",
        "# 比對設定的 `EPOCHS` 以及已訓練的 `last_epoch` 來決定還要訓練多少 epochs\n",
        "for epoch in range(last_epoch, EPOCHS):\n",
        "  start = time.time()\n",
        "  \n",
        "  # 重置紀錄 TensorBoard 的 metrics\n",
        "  train_loss.reset_states()\n",
        "  train_accuracy.reset_states()\n",
        "  \n",
        "  # 一個 epoch 就是把我們定義的訓練資料集一個一個 batch 拿出來處理，直到看完整個數據集 \n",
        "  for (step_idx, (inp, tar)) in enumerate(train_dataset):\n",
        "    \n",
        "    # 每次 step 就是將數據丟入 Transformer，讓它生預測結果並計算梯度最小化 loss\n",
        "    train_step(inp, tar)  \n",
        "\n",
        "  # 每個 epoch 完成就存一次檔    \n",
        "  if (epoch + 1) % 1 == 0:\n",
        "    ckpt_save_path = ckpt_manager.save()\n",
        "    print ('Saving checkpoint for epoch {} at {}'.format(epoch+1,\n",
        "                                                         ckpt_save_path))\n",
        "    \n",
        "  # 將 loss 以及 accuracy 寫到 TensorBoard 上\n",
        "  with summary_writer.as_default():\n",
        "    tf.summary.scalar(\"train_loss\", train_loss.result(), step=epoch + 1)\n",
        "    tf.summary.scalar(\"train_acc\", train_accuracy.result(), step=epoch + 1)\n",
        "  \n",
        "  print('Epoch {} Loss {:.4f} Accuracy {:.4f}'.format(epoch + 1, \n",
        "                                                train_loss.result(), \n",
        "                                                train_accuracy.result()))\n",
        "  print('Time taken for 1 epoch: {} secs\\n'.format(time.time() - start))"
      ],
      "execution_count": null,
      "outputs": [
        {
          "output_type": "stream",
          "text": [
            "此超參數組合的 Transformer 已經訓練 0 epochs。\n",
            "剩餘 epochs：-30\n"
          ],
          "name": "stdout"
        }
      ]
    },
    {
      "cell_type": "markdown",
      "metadata": {
        "id": "i64erJBKz4h-"
      },
      "source": [
        "# 實際進行英翻中"
      ]
    },
    {
      "cell_type": "code",
      "metadata": {
        "id": "uB_Va-Q1z5gT"
      },
      "source": [
        "# 給定一個英文句子，輸出預測的中文索引數字序列以及注意權重 dict\n",
        "def evaluate(inp_sentence):\n",
        "  \n",
        "  # 準備英文句子前後會加上的 <start>, <end>\n",
        "  start_token = [subword_encoder_en.vocab_size]\n",
        "  end_token = [subword_encoder_en.vocab_size + 1]\n",
        "  \n",
        "  # inp_sentence 是字串，我們用 Subword Tokenizer 將其變成子詞的索引序列\n",
        "  # 並在前後加上 BOS / EOS\n",
        "  inp_sentence = start_token + subword_encoder_en.encode(inp_sentence) + end_token\n",
        "  encoder_input = tf.expand_dims(inp_sentence, 0)\n",
        "  \n",
        "  # 跟我們在影片裡看到的一樣，Decoder 在第一個時間點吃進去的輸入\n",
        "  # 是一個只包含一個中文 <start> token 的序列\n",
        "  decoder_input = [subword_encoder_zh.vocab_size]\n",
        "  output = tf.expand_dims(decoder_input, 0)  # 增加 batch 維度\n",
        "  \n",
        "  # auto-regressive，一次生成一個中文字並將預測加到輸入再度餵進 Transformer\n",
        "  for i in range(MAX_LENGTH):\n",
        "    # 每多一個生成的字就得產生新的遮罩\n",
        "    enc_padding_mask, combined_mask, dec_padding_mask = create_masks(\n",
        "        encoder_input, output)\n",
        "  \n",
        "    # predictions.shape == (batch_size, seq_len, vocab_size)\n",
        "    predictions, attention_weights = transformer(encoder_input, \n",
        "                                                 output,\n",
        "                                                 False,\n",
        "                                                 enc_padding_mask,\n",
        "                                                 combined_mask,\n",
        "                                                 dec_padding_mask)\n",
        "    \n",
        "\n",
        "    # 將序列中最後一個 distribution 取出，並將裡頭值最大的當作模型最新的預測字\n",
        "    predictions = predictions[: , -1:, :]  # (batch_size, 1, vocab_size)\n",
        "\n",
        "    predicted_id = tf.cast(tf.argmax(predictions, axis=-1), tf.int32)\n",
        "    \n",
        "    # 遇到 <end> token 就停止回傳，代表模型已經產生完結果\n",
        "    if tf.equal(predicted_id, subword_encoder_zh.vocab_size + 1):\n",
        "      return tf.squeeze(output, axis=0), attention_weights\n",
        "    \n",
        "    #將 Transformer 新預測的中文索引加到輸出序列中，讓 Decoder 可以在產生\n",
        "    # 下個中文字的時候關注到最新的 `predicted_id`\n",
        "    output = tf.concat([output, predicted_id], axis=-1)\n",
        "\n",
        "  # 將 batch 的維度去掉後回傳預測的中文索引序列\n",
        "  return tf.squeeze(output, axis=0), attention_weights"
      ],
      "execution_count": null,
      "outputs": []
    },
    {
      "cell_type": "markdown",
      "metadata": {
        "id": "YNl-Gx6G0K7L"
      },
      "source": [
        "## Final Result"
      ]
    },
    {
      "cell_type": "code",
      "metadata": {
        "id": "hY-1Cj820NKS"
      },
      "source": [
        "# 要被翻譯的英文句子\n",
        "sentence = \"China, India, and others have enjoyed continuing economic growth.\"\n",
        "\n",
        "# 取得預測的中文索引序列\n",
        "predicted_seq, _ = evaluate(sentence)\n",
        "\n",
        "# 過濾掉 <start> & <end> tokens 並用中文的 subword tokenizer 幫我們將索引序列還原回中文句子\n",
        "target_vocab_size = subword_encoder_zh.vocab_size\n",
        "predicted_seq_without_bos_eos = [idx for idx in predicted_seq if idx < target_vocab_size]\n",
        "predicted_sentence = subword_encoder_zh.decode(predicted_seq_without_bos_eos)\n",
        "\n",
        "print(\"sentence:\", sentence)\n",
        "print(\"-\" * 20)\n",
        "print(\"predicted_seq:\", predicted_seq)\n",
        "print(\"-\" * 20)\n",
        "print(\"predicted_sentence:\", predicted_sentence)"
      ],
      "execution_count": null,
      "outputs": []
    }
  ]
}